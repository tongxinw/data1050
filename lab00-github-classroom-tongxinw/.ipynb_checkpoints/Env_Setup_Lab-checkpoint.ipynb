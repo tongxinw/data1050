{
 "cells": [
  {
   "cell_type": "markdown",
   "metadata": {},
   "source": [
    "# Lab 0: GitHub Classroom\n",
    "In this lab you'll set up the tools that you will need for this course on your computer so that you can work on projects and labs efficiently throughout the semester. If you run into any trouble, pleasse do not hesitate to reach out to the TAs!"
   ]
  },
  {
   "cell_type": "markdown",
   "metadata": {},
   "source": [
    "### Binary Search for Root finding\n",
    "You can use the principle of binary search in conjunction with the intermediate value theorem of Calculus to find the roots of any continuous function.  Below is some code that a student wrote to perform this task.  \n",
    "\n",
    "Can you find the issues?"
   ]
  },
  {
   "cell_type": "code",
   "execution_count": 2,
   "metadata": {},
   "outputs": [
    {
     "data": {
      "text/plain": [
       "-1.2500000000727596"
      ]
     },
     "execution_count": 2,
     "metadata": {},
     "output_type": "execute_result"
    }
   ],
   "source": [
    "import math\n",
    "\n",
    "\n",
    "def find_root(f, L, H, tol):\n",
    "    \"\"\"\n",
    "    Returns a root of f in the interval (L, H) up to tolerance tol.\n",
    "    \"\"\"\n",
    "    x = (L + H) / 2\n",
    "    while abs(L - H) > tol:\n",
    "        x = (L + H) / 2\n",
    "        if f(L) * f(H) < 0:\n",
    "            H = x\n",
    "        else:\n",
    "            L = x\n",
    "    return x\n",
    "\n",
    "\n",
    "find_root(lambda x: math.sin(x) + .5, -5, 5, 1e-10)"
   ]
  },
  {
   "cell_type": "code",
   "execution_count": 3,
   "metadata": {},
   "outputs": [
    {
     "data": {
      "text/plain": [
       "-0.44898461937852896"
      ]
     },
     "execution_count": 3,
     "metadata": {},
     "output_type": "execute_result"
    }
   ],
   "source": [
    "# This is not the right answer :(\n",
    "math.sin(-1.2500000000727596) + .5"
   ]
  },
  {
   "cell_type": "markdown",
   "metadata": {},
   "source": [
    "### Task 1: Describe the problems\n",
    "\n",
    "Your answer here: \n",
    "1. the docstring is not specific enough, e.g.  f(L)*f(H)<0; and the function can only find one of the roots of the function \n",
    "2. when f(L)*f(H) < 0, we should consider which side the root will be approching instead of assuming it will be closer to the lower bound."
   ]
  },
  {
   "cell_type": "markdown",
   "metadata": {},
   "source": [
    "### Task 2: Provide a corrected version of the code"
   ]
  },
  {
   "cell_type": "code",
   "execution_count": 5,
   "metadata": {},
   "outputs": [
    {
     "data": {
      "text/plain": [
       "3.6651914292451693"
      ]
     },
     "execution_count": 5,
     "metadata": {},
     "output_type": "execute_result"
    }
   ],
   "source": [
    "# Your code here\n",
    "\n",
    "import math\n",
    "\n",
    "def get_root(f,L,H,tol):\n",
    "    \"\"\"\n",
    "    returns the root of of f in the interval (L, H) up to tolerance tol\n",
    "    assume f(L)*f(H) < 0.\n",
    "    \"\"\"\n",
    "    x = (H+L)/2\n",
    "\n",
    "    while abs(H-L) > tol:\n",
    "        x = (H+L)/2\n",
    "        \n",
    "        if f(x)*f(H)<0:\n",
    "            L = x\n",
    "        elif f(x)*f(H)==0:\n",
    "            return x\n",
    "        else:\n",
    "            H = x\n",
    "        \n",
    "    return x\n",
    "\n",
    "get_root(lambda x: math.sin(x) + 0.5, -5, 5, 1e-10)"
   ]
  },
  {
   "cell_type": "markdown",
   "metadata": {},
   "source": [
    "## Congradulations and welcome to Data1050!\n",
    "Be sure to `git add/commit/push` when you are done."
   ]
  }
 ],
 "metadata": {
  "jupytext": {
   "encoding": "# -*- coding: utf-8 -*-",
   "formats": "ipynb,py:percent"
  },
  "kernelspec": {
   "display_name": "Python 3",
   "language": "python",
   "name": "python3"
  },
  "language_info": {
   "codemirror_mode": {
    "name": "ipython",
    "version": 3
   },
   "file_extension": ".py",
   "mimetype": "text/x-python",
   "name": "python",
   "nbconvert_exporter": "python",
   "pygments_lexer": "ipython3",
   "version": "3.7.3"
  }
 },
 "nbformat": 4,
 "nbformat_minor": 4
}

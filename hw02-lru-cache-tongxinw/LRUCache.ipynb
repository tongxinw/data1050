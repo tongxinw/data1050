{
 "cells": [
  {
   "cell_type": "markdown",
   "metadata": {
    "colab_type": "text",
    "id": "Z23HcXnk17kG"
   },
   "source": [
    "# LRU Cache \n",
    "This project should help familiarize you with two kinds of data structures: doubly linked lists and dictionaries. In this project, you'll implement a Least Recently Used (LRU) Cache comprised of these two data structures. \n",
    "\n",
    "## Before you start\n",
    "Before you start, enable extension manager and pair the notebook with a percent script through jupytext. \n",
    "\n",
    "1. [Enable extension manager](https://i.ibb.co/tP4vWk3/mng.png)\n",
    "2. [Enable jupytext pairing](https://i.ibb.co/5LrtYcq/jupytext-enable.png)\n",
    "\n"
   ]
  },
  {
   "cell_type": "code",
   "execution_count": 1,
   "metadata": {},
   "outputs": [
    {
     "name": "stdout",
     "output_type": "stream",
     "text": [
      "Note: you may need to restart the kernel to use updated packages.\n"
     ]
    }
   ],
   "source": [
    "# Execute this cell to enable testing and automatic style check. \n",
    "# Please resolve all style warnings reported by `%%flake8` before submission.\n",
    "\n",
    "%pip install -q pytest pytest-cov "
   ]
  },
  {
   "cell_type": "markdown",
   "metadata": {},
   "source": [
    "# Task 2.1 DoublyLinkedList"
   ]
  },
  {
   "cell_type": "code",
   "execution_count": 2,
   "metadata": {
    "colab": {
     "base_uri": "https://localhost:8080/",
     "height": 51
    },
    "colab_type": "code",
    "id": "aDQtD4iAUU5M",
    "outputId": "8a9d865b-a45f-4c64-efdf-1e2fe1287b84"
   },
   "outputs": [],
   "source": [
    "class ListNode:\n",
    "    '''Doubly linked list node.'''\n",
    "    def __init__(self, val):\n",
    "        self.next = None\n",
    "        self.prev = None\n",
    "        self.data = val\n",
    "        \n",
    "    def __str__(self):\n",
    "        \"\"\" Return string representation of data in this node and all successor nodes \"\"\"\n",
    "        node = self\n",
    "        visited = set()\n",
    "        first = True\n",
    "        result = ''\n",
    "\n",
    "        while node:\n",
    "            if first:\n",
    "                first = False\n",
    "            else:\n",
    "                result += ' -> '\n",
    "            if id(node) in visited:\n",
    "                if node.next is not node:\n",
    "                    result += str(node.data)\n",
    "                    result += ' -> ... -> '\n",
    "                result += str(node.data)\n",
    "                result += ' -> ...'\n",
    "                break\n",
    "            else:\n",
    "                result += str(node.data)\n",
    "                visited.add(id(node))\n",
    "            node = node.next\n",
    "        return result\n",
    "\n",
    "\n",
    "class DoublyLinkedList:\n",
    "    \"\"\"\n",
    "    A linked list container built on `ListNode`. Two pseudo nodes are used for\n",
    "    head and tail.\n",
    "    \"\"\"\n",
    "\n",
    "    def __init__(self):\n",
    "        self.head = ListNode(None)  # pseudo-node\n",
    "        self.tail = ListNode(None)  # pseudo-node\n",
    "        self.head.next = self.tail\n",
    "        self.tail.prev = self.head\n",
    "        self._length = 0\n",
    "\n",
    "    def __len__(self):\n",
    "        return self._length\n",
    "\n",
    "    def get_last(self):\n",
    "        \"\"\" Returns the last node (psedu-node is skipped). \n",
    "        Raises IndexError when no node exists. \"\"\"\n",
    "        if self._length == 0:\n",
    "            raise IndexError(\"Try to get item from an empty LinkedList\")\n",
    "        return self.tail.prev\n",
    "\n",
    "    def prepend(self, node):\n",
    "        \"\"\"\n",
    "        Insert `node` at the head of the linked list\n",
    "        \"\"\"  \n",
    "        # TODO: implement me\n",
    "        \n",
    "        new_node = node\n",
    "        \n",
    "        if self._length == 0:\n",
    "            new_node.next = self.tail\n",
    "            new_node.prev = self.head\n",
    "            self.head.next = new_node\n",
    "            self.tail.prev = new_node\n",
    "            \n",
    "        else:\n",
    "            old_head = self.head.next\n",
    "            new_node.next = old_head\n",
    "            old_head.prev = new_node\n",
    "            self.head.next = new_node\n",
    "            new_node.prev = self.head\n",
    "            \n",
    "        self._length += 1\n",
    "        \n",
    "        return self    \n",
    "\n",
    "    def remove(self, node):\n",
    "        \"\"\"\n",
    "        Remove `node` from this linked list\n",
    "        \"\"\"  \n",
    "        # TODO: implement me\n",
    "\n",
    "        # empty list\n",
    "        if self._length == 0:\n",
    "            raise IndexError(\"Try to remove item from an empty LinkedList\")\n",
    "        # TODO: node not in list\n",
    "        else:\n",
    "            key = self.head.next\n",
    "            while key.data != node.data:\n",
    "                key = key.next\n",
    "#                 if key == None:\n",
    "#                     raise IndexError(\"Node not in LinkedList\")\n",
    "            key.prev.next = key.next\n",
    "            key.next.prev = key.prev\n",
    "        \n",
    "        self._length -= 1\n",
    "        return self    \n",
    "            \n",
    "\n",
    "\n",
    "    def __str__(self):\n",
    "        return str(self.head)\n",
    "        \n",
    "    class HasLoopException(Exception):\n",
    "        pass"
   ]
  },
  {
   "cell_type": "code",
   "execution_count": 3,
   "metadata": {},
   "outputs": [
    {
     "name": "stdout",
     "output_type": "stream",
     "text": [
      "None -> 1 -> 2 -> None\n",
      "None -> 2 -> None\n"
     ]
    }
   ],
   "source": [
    "# Examples for DoublyLinkedList\n",
    "l = DoublyLinkedList()\n",
    "n2 = ListNode(2)\n",
    "n1 = ListNode(1)\n",
    "n3 = ListNode(3)\n",
    "\n",
    "l.prepend(n2)\n",
    "l.prepend(n1)\n",
    "print(l)\n",
    "\n",
    "#l.remove(n2)\n",
    "l.remove(n1)\n",
    "print(l)"
   ]
  },
  {
   "cell_type": "markdown",
   "metadata": {
    "colab_type": "text",
    "id": "y8b-Hdh0ywZP"
   },
   "source": [
    "# Task2.2 LRU Cache"
   ]
  },
  {
   "cell_type": "code",
   "execution_count": 4,
   "metadata": {
    "colab": {
     "base_uri": "https://localhost:8080/",
     "height": 34
    },
    "colab_type": "code",
    "id": "fY0zZBXSuQSZ",
    "outputId": "560fdb93-8cbf-4a03-87d2-a3b7e24bead6"
   },
   "outputs": [],
   "source": [
    "class LRUCache:\n",
    "    \"\"\"\n",
    "    A \"Least Recent Used\" cache. This cache holds \n",
    "    up to `capacity` key-value pairs. Adding a new key when the cache is full (via put)\n",
    "    results in the least recently key-value pair is removed.\n",
    "    \"\"\"\n",
    "\n",
    "    def __init__(self, capacity=4):\n",
    "        '''Create a LRUCache with of size capacity.'''\n",
    "        if capacity < 1:\n",
    "            raise ValueError(\n",
    "                \"capacity should be >=1 but {} given\".format(capacity))\n",
    "        self.capacity = capacity\n",
    "\n",
    "        # This linked list records the key-value pair in the order of their recentness.\n",
    "        self.list = DoublyLinkedList()\n",
    "\n",
    "        # dictionay that maps keys to linked list node for quicker node lookup\n",
    "        self.map = {}\n",
    "\n",
    "    def __len__(self):\n",
    "        return len(self.list)\n",
    "\n",
    "    def __contains__(self, key):\n",
    "        \"\"\" Magic method for checking key existence\n",
    "\n",
    "        Examples: \n",
    "            if 'key' in lru_dict:\n",
    "                print(\"exist!\")\n",
    "        \"\"\"\n",
    "        return key in self.map\n",
    "\n",
    "    def put(self, key, value):\n",
    "        \"\"\"\n",
    "        Adds (key, value) to cache. If the cache is full, and the key is new,\n",
    "        the least recently (key,value) pair is removed.\n",
    "        \"\"\"\n",
    "        # TODO: implement the following:\n",
    "        # If the key already exists in the self.map dict,\n",
    "        # replace the key-value pair stored in the linked list. \n",
    "        if key in self:\n",
    "            n = self.map[key]\n",
    "            n.data = (key,value)\n",
    "            # self.map[key] = ListNode(value)\n",
    "            self.list.remove(n)\n",
    "            self.list.prepend(n)\n",
    "            \n",
    "        # If the key does not exist, add this key-value pair to self.list.  If\n",
    "        # self.map is over capacity, evict the least recent used key-value.\n",
    "        # Also be sure to update the LRU order in self.list.\n",
    "        else:\n",
    "            if len(self.list) == self.capacity:\n",
    "                last_n = self.list.get_last()\n",
    "                self.list.remove(last_n)\n",
    "                del self.map[last_n.data[0]]\n",
    "            self.map[key] = ListNode((key,value))\n",
    "            self.list.prepend(self.map[key])\n",
    "\n",
    "    def get(self, key, default=None):\n",
    "        \"\"\"\n",
    "        Get value for `key`. Return `default` when the key is not found.\n",
    "        \"\"\"\n",
    "        # TODO: implement me\n",
    "        # If the key exists in self.map, return the value and update the LRU order in self.list.\n",
    "        if key in self:\n",
    "            n = self.map[key]\n",
    "            self.list.remove(n)\n",
    "            self.list.prepend(n)\n",
    "            return self.map[key].data[1]\n",
    "        # If the key does not exist return the default value.\n",
    "        else:\n",
    "            return default\n",
    "\n",
    "\n",
    "    def items(self):\n",
    "        \"\"\"\n",
    "        return all key-value pairs in the order of recentness (the most recent to the least recent)\n",
    "        \"\"\"\n",
    "        # TODO: implement me\n",
    "        pair_list = []\n",
    "        n = self.list.head.next\n",
    "        while n != self.list.tail:\n",
    "            pair_list.append(n.data)\n",
    "            n = n.next\n",
    "        return pair_list\n",
    "    \n",
    "    def __str__(self):\n",
    "        \"\"\"\n",
    "        return str representation of self.items()\n",
    "        \"\"\"\n",
    "        return \"LRUCache:\\n\" + '\\n'.join([f\"key={k}, value={v}\" for k, v in self.items()])"
   ]
  },
  {
   "cell_type": "code",
   "execution_count": 5,
   "metadata": {},
   "outputs": [
    {
     "name": "stdout",
     "output_type": "stream",
     "text": [
      "('v', 2)\n"
     ]
    }
   ],
   "source": [
    "# Examples for LRUCache\n",
    "d = LRUCache(2)\n",
    "d.put('k', 1)\n",
    "d.put('v', 2)\n",
    "d.put('a',1)\n",
    "print(d.list.get_last().data)"
   ]
  },
  {
   "cell_type": "code",
   "execution_count": 6,
   "metadata": {},
   "outputs": [
    {
     "data": {
      "text/plain": [
       "1"
      ]
     },
     "execution_count": 6,
     "metadata": {},
     "output_type": "execute_result"
    }
   ],
   "source": [
    "d.get('a')"
   ]
  },
  {
   "cell_type": "code",
   "execution_count": 7,
   "metadata": {},
   "outputs": [
    {
     "name": "stdout",
     "output_type": "stream",
     "text": [
      "LRUCache:\n",
      "key=a, value=1\n",
      "key=v, value=2\n"
     ]
    }
   ],
   "source": [
    "print(d)"
   ]
  },
  {
   "cell_type": "markdown",
   "metadata": {
    "colab_type": "text",
    "id": "iHVNDyakyJng"
   },
   "source": [
    "# Task2.3 Testing"
   ]
  },
  {
   "cell_type": "code",
   "execution_count": 8,
   "metadata": {
    "colab": {
     "base_uri": "https://localhost:8080/",
     "height": 34
    },
    "colab_type": "code",
    "id": "8OvtptiGuUOz",
    "outputId": "9f19b163-709e-44ee-8da6-e8bb5ad46bdc"
   },
   "outputs": [],
   "source": [
    "import pytest\n",
    "import random\n",
    "from typing import Any\n",
    "\n",
    "\n",
    "class DefaultValue:\n",
    "    def __eq__(self, other):\n",
    "        return isinstance(other, DefaultValue)\n",
    "\n",
    "\n",
    "def assert_miss(d, key):\n",
    "    assert key not in d.map\n",
    "    assert isinstance(d.get(key, DefaultValue()), DefaultValue)\n",
    "\n",
    "\n",
    "def test_example():\n",
    "    ld = LRUCache(2)\n",
    "    assert_miss(ld, 'a')        # should miss\n",
    "    ld.get(3, None)\n",
    "    \n",
    "\n",
    "def test_list_repr_with_cycle():\n",
    "    # help boosting coverage by testing LinkedList.__str__\n",
    "    l = DoublyLinkedList()\n",
    "    last = ListNode(3)\n",
    "    l.prepend(last)\n",
    "    l.prepend(ListNode(2))\n",
    "    first = ListNode(1)\n",
    "    l.prepend(first)\n",
    "    last.next = first\n",
    "    assert str(l) == \"None -> 1 -> 2 -> 3 -> 1 -> ... -> 1 -> ...\"\n",
    "\n",
    "# TODO: add more tests\n",
    "def test_put():\n",
    "    d = LRUCache(2)\n",
    "    d.put('k', 1)\n",
    "    d.put('v', 2)\n",
    "    d.put('a',1)\n",
    "\n",
    "    assert d.list.get_last().data == ('v',2)\n",
    "    \n",
    "    \n",
    "def test_get():\n",
    "    d = LRUCache(2)\n",
    "    d.put('k', 1)\n",
    "    d.put('v', 2)\n",
    "\n",
    "    d.put('a',1)\n",
    "    d.put('k',3)\n",
    "    assert d.get('k') == 3\n",
    "\n"
   ]
  },
  {
   "cell_type": "code",
   "execution_count": 9,
   "metadata": {
    "colab": {},
    "colab_type": "code",
    "id": "m2-bpX41PrtG"
   },
   "outputs": [
    {
     "name": "stdout",
     "output_type": "stream",
     "text": [
      "/bin/sh: 1: pytest: not found\n"
     ]
    }
   ],
   "source": [
    "# execute this cell to start the test.\n",
    "!pytest --cov-report term --cov-report=annotate LRUCache.py --cov ."
   ]
  },
  {
   "cell_type": "code",
   "execution_count": 34,
   "metadata": {},
   "outputs": [
    {
     "name": "stdout",
     "output_type": "stream",
     "text": [
      ">     def get_last(self):\n",
      ">         \"\"\" Returns the last node (psedu-node is skipped). \n",
      ">         Raises IndexError when no node exists. \"\"\"\n",
      ">         if self._length == 0:\n",
      "\u001b[01;31m\u001b[K!             raise IndexError(\"Try to get item from an empty LinkedList\")\u001b[m\u001b[K\n",
      ">         return self.tail.prev\n",
      "  \n",
      ">     def prepend(self, node):\n",
      ">         \"\"\"\n",
      "\u001b[36m\u001b[K--\u001b[m\u001b[K\n",
      "          # TODO: implement me\n",
      "  \n",
      "          # empty list\n",
      ">         if self._length == 0:\n",
      "\u001b[01;31m\u001b[K!             raise IndexError(\"Try to remove item from an empty LinkedList\")\u001b[m\u001b[K\n",
      "          # TODO: node not in list\n",
      ">         else:\n",
      ">             key = self.head.next\n",
      ">             while key.data != node.data:\n",
      "\u001b[36m\u001b[K--\u001b[m\u001b[K\n",
      "  \n",
      ">     def __init__(self, capacity=4):\n",
      ">         '''Create a LRUCache with of size capacity.'''\n",
      ">         if capacity < 1:\n",
      "\u001b[01;31m\u001b[K!             raise ValueError(\u001b[m\u001b[K\n",
      "\u001b[01;31m\u001b[K!                 \"capacity should be >=1 but {} given\".format(capacity))\u001b[m\u001b[K\n",
      ">         self.capacity = capacity\n",
      "  \n",
      "          # This linked list records the key-value pair in the order of their recentness.\n",
      ">         self.list = DoublyLinkedList()\n",
      "\u001b[36m\u001b[K--\u001b[m\u001b[K\n",
      "          # dictionay that maps keys to linked list node for quicker node lookup\n",
      ">         self.map = {}\n",
      "  \n",
      ">     def __len__(self):\n",
      "\u001b[01;31m\u001b[K!         return len(self.list)\u001b[m\u001b[K\n",
      "  \n",
      ">     def __contains__(self, key):\n",
      ">         \"\"\" Magic method for checking key existence\n",
      "  \n",
      "\u001b[36m\u001b[K--\u001b[m\u001b[K\n",
      "          # TODO: implement the following:\n",
      "          # If the key already exists in the self.map dict,\n",
      "          # replace the key-value pair stored in the linked list. \n",
      ">         if key in self:\n",
      "\u001b[01;31m\u001b[K!             n = self.map[key]\u001b[m\u001b[K\n",
      "\u001b[01;31m\u001b[K!             n.data = (key,value)\u001b[m\u001b[K\n",
      "              # self.map[key] = ListNode(value)\n",
      "\u001b[01;31m\u001b[K!             self.list.remove(n)\u001b[m\u001b[K\n",
      "\u001b[01;31m\u001b[K!             self.list.prepend(n)\u001b[m\u001b[K\n",
      "              \n",
      "          # If the key does not exist, add this key-value pair to self.list.  If\n",
      "          # self.map is over capacity, evict the least recent used key-value.\n",
      "          # Also be sure to update the LRU order in self.list.\n",
      "\u001b[36m\u001b[K--\u001b[m\u001b[K\n",
      "  \n",
      "  \n",
      "> class DefaultValue:\n",
      ">     def __eq__(self, other):\n",
      "\u001b[01;31m\u001b[K!         return isinstance(other, DefaultValue)\u001b[m\u001b[K\n",
      "  \n",
      "  \n",
      "> def assert_miss(d, key):\n",
      ">     assert key not in d.map\n"
     ]
    }
   ],
   "source": [
    "%%bash\n",
    "# Lines begining with '!' is not covered by your tests\n",
    "grep --color=always -C 4 -E \"^!.*$\" \"LRUCache.py,cover\""
   ]
  },
  {
   "cell_type": "markdown",
   "metadata": {},
   "source": [
    "# Task2.4 Application: Memorization"
   ]
  },
  {
   "cell_type": "code",
   "execution_count": 52,
   "metadata": {
    "scrolled": true
   },
   "outputs": [
    {
     "name": "stdout",
     "output_type": "stream",
     "text": [
      "result: 6765\n",
      "# of function calls: 20\n",
      "CacheInfo(hits=17, misses=20, maxsize=10, currsize=10)\n"
     ]
    }
   ],
   "source": [
    "from functools import lru_cache\n",
    "_call_count = 0\n",
    "\n",
    "@lru_cache(maxsize=10)\n",
    "def fibonacci(n):\n",
    "    global _call_count\n",
    "    _call_count += 1\n",
    "    if n <= 2:\n",
    "        return 1\n",
    "    return fibonacci(n - 2) + fibonacci(n - 1)\n",
    "    # return fibonacci(n - 1) + fibonacci(n - 2)\n",
    "    \n",
    "r = fibonacci(20)\n",
    "assert r == 6765\n",
    "print('result:', r)\n",
    "print('# of function calls:', _call_count)\n",
    "print(fibonacci.cache_info())"
   ]
  }
 ],
 "metadata": {
  "colab": {
   "collapsed_sections": [],
   "name": "DynamicList.ipynb",
   "provenance": [],
   "toc_visible": true,
   "version": "0.3.2"
  },
  "jupytext": {
   "formats": "ipynb,py:percent"
  },
  "kernelspec": {
   "display_name": "Python 3",
   "language": "python",
   "name": "python3"
  },
  "language_info": {
   "codemirror_mode": {
    "name": "ipython",
    "version": 3
   },
   "file_extension": ".py",
   "mimetype": "text/x-python",
   "name": "python",
   "nbconvert_exporter": "python",
   "pygments_lexer": "ipython3",
   "version": "3.7.3"
  }
 },
 "nbformat": 4,
 "nbformat_minor": 4
}

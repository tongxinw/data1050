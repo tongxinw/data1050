{
 "cells": [
  {
   "cell_type": "markdown",
   "metadata": {},
   "source": [
    "# Homework 5: Data modeling and SQL for IMDB data"
   ]
  },
  {
   "cell_type": "markdown",
   "metadata": {},
   "source": [
    "***\n",
    "## SQL Database Design\n",
    "\n",
    "As mentioned in the google doc, star schemas are used commonly for data warehouses. Wikipedia has a short and clear [Star Schema](https://en.wikipedia.org/wiki/Star_schema) article.  This [reference](https://www.guru99.com/star-snowflake-data-warehousing.html) is also good, and describes both star schemas and their connection to snowflake schemas.\n",
    "\n",
    "In this part of the assignment, you will develop a **star schema**.\n",
    "\n",
    "Tips:\n",
    "\n",
    "1. **Working with flat files/raw data**\n",
    "   When working with flat files of data it's important to check them out in their raw form (i.e. using a text editor or unix head command if the files are too big for your editor). For tabular data you should review every column and make sure you understand what it represents.  \n",
    "\n",
    "   For this assignment, we highly recommend you create a markdown cell with the name of every column that is currently in the file. (Copy and paste can be your friend here.)  Often times it you may need to fix the csv file before you import it. \n",
    "\n",
    "2. As you do this, sometimes there obvious poblems become apparent, such as header rows that need to skipped over (or deleted), and column names that are inappropriate for the system you are using. \n",
    "\n",
    "4. The file 'all_data_raw.csv' has two problems: extra lines at the beginning and inconsitent column names) that you should fix using the text editor. Column names should not contain spaces and should also be consistent.\n",
    "\n",
    "3. Create a new corrected version of the data file named 'all_data.csv'.\n",
    "\n",
    "Below is some code that will read an **appropiately** formated csv file and display its contents.  The strings in `all_data.csv` use the `latin1` character encoding. "
   ]
  },
  {
   "cell_type": "markdown",
   "metadata": {},
   "source": [
    "**new names**    \n",
    "director_name,num_critic_for_reviews,duration,director_facebook_likes,actor_3_facebook_likes,actor_2_name,  \n",
    "actor_1_facebook_likes,gross,genres,actor_1_name,movie_title,num_voted_users,cast_total_facebook_likes,  \n",
    "actor_3_name,facenumber_in_poster,num_user_for_reviews,language,country,content_rating,budget,  \n",
    "title_year,actor_2_facebook_likes,imdb_score,aspect_ratio,movie_facebook_likes"
   ]
  },
  {
   "cell_type": "code",
   "execution_count": 1,
   "metadata": {},
   "outputs": [],
   "source": [
    "import pandas as pd"
   ]
  },
  {
   "cell_type": "code",
   "execution_count": 2,
   "metadata": {
    "jupyter": {}
   },
   "outputs": [
    {
     "data": {
      "text/html": [
       "<div>\n",
       "<style scoped>\n",
       "    .dataframe tbody tr th:only-of-type {\n",
       "        vertical-align: middle;\n",
       "    }\n",
       "\n",
       "    .dataframe tbody tr th {\n",
       "        vertical-align: top;\n",
       "    }\n",
       "\n",
       "    .dataframe thead th {\n",
       "        text-align: right;\n",
       "    }\n",
       "</style>\n",
       "<table border=\"1\" class=\"dataframe\">\n",
       "  <thead>\n",
       "    <tr style=\"text-align: right;\">\n",
       "      <th></th>\n",
       "      <th>director_name</th>\n",
       "      <th>num_critic_for_reviews</th>\n",
       "      <th>duration</th>\n",
       "      <th>director_facebook_likes</th>\n",
       "      <th>actor_3_facebook_likes</th>\n",
       "      <th>actor_2_name</th>\n",
       "      <th>actor_1_facebook_likes</th>\n",
       "      <th>gross</th>\n",
       "      <th>genres</th>\n",
       "      <th>actor_1_name</th>\n",
       "      <th>...</th>\n",
       "      <th>num_user_for_reviews</th>\n",
       "      <th>language</th>\n",
       "      <th>country</th>\n",
       "      <th>content_rating</th>\n",
       "      <th>budget</th>\n",
       "      <th>title_year</th>\n",
       "      <th>actor_2_facebook_likes</th>\n",
       "      <th>imdb_score</th>\n",
       "      <th>aspect_ratio</th>\n",
       "      <th>movie_facebook_likes</th>\n",
       "    </tr>\n",
       "  </thead>\n",
       "  <tbody>\n",
       "    <tr>\n",
       "      <th>0</th>\n",
       "      <td>Gore Verbinski</td>\n",
       "      <td>302.0</td>\n",
       "      <td>169.0</td>\n",
       "      <td>563</td>\n",
       "      <td>1000</td>\n",
       "      <td>Orlando Bloom</td>\n",
       "      <td>40000</td>\n",
       "      <td>309404152.0</td>\n",
       "      <td>Action</td>\n",
       "      <td>Johnny Depp</td>\n",
       "      <td>...</td>\n",
       "      <td>1238.0</td>\n",
       "      <td>English</td>\n",
       "      <td>USA</td>\n",
       "      <td>PG-13</td>\n",
       "      <td>300000000.0</td>\n",
       "      <td>2007.0</td>\n",
       "      <td>5000</td>\n",
       "      <td>7.1</td>\n",
       "      <td>2.35</td>\n",
       "      <td>0</td>\n",
       "    </tr>\n",
       "    <tr>\n",
       "      <th>1</th>\n",
       "      <td>Christopher Nolan</td>\n",
       "      <td>813.0</td>\n",
       "      <td>164.0</td>\n",
       "      <td>22000</td>\n",
       "      <td>23000</td>\n",
       "      <td>Christian Bale</td>\n",
       "      <td>27000</td>\n",
       "      <td>448130642.0</td>\n",
       "      <td>Action</td>\n",
       "      <td>Tom Hardy</td>\n",
       "      <td>...</td>\n",
       "      <td>2701.0</td>\n",
       "      <td>English</td>\n",
       "      <td>USA</td>\n",
       "      <td>PG-13</td>\n",
       "      <td>250000000.0</td>\n",
       "      <td>2012.0</td>\n",
       "      <td>23000</td>\n",
       "      <td>8.5</td>\n",
       "      <td>2.35</td>\n",
       "      <td>164000</td>\n",
       "    </tr>\n",
       "    <tr>\n",
       "      <th>2</th>\n",
       "      <td>Andrew Stanton</td>\n",
       "      <td>462.0</td>\n",
       "      <td>132.0</td>\n",
       "      <td>475</td>\n",
       "      <td>530</td>\n",
       "      <td>Samantha Morton</td>\n",
       "      <td>640</td>\n",
       "      <td>73058679.0</td>\n",
       "      <td>Action</td>\n",
       "      <td>Daryl Sabara</td>\n",
       "      <td>...</td>\n",
       "      <td>738.0</td>\n",
       "      <td>English</td>\n",
       "      <td>USA</td>\n",
       "      <td>PG-13</td>\n",
       "      <td>263700000.0</td>\n",
       "      <td>2012.0</td>\n",
       "      <td>632</td>\n",
       "      <td>6.6</td>\n",
       "      <td>2.35</td>\n",
       "      <td>24000</td>\n",
       "    </tr>\n",
       "    <tr>\n",
       "      <th>3</th>\n",
       "      <td>Nathan Greno</td>\n",
       "      <td>324.0</td>\n",
       "      <td>100.0</td>\n",
       "      <td>15</td>\n",
       "      <td>284</td>\n",
       "      <td>Donna Murphy</td>\n",
       "      <td>799</td>\n",
       "      <td>200807262.0</td>\n",
       "      <td>Adventure</td>\n",
       "      <td>Brad Garrett</td>\n",
       "      <td>...</td>\n",
       "      <td>387.0</td>\n",
       "      <td>English</td>\n",
       "      <td>USA</td>\n",
       "      <td>PG</td>\n",
       "      <td>260000000.0</td>\n",
       "      <td>2010.0</td>\n",
       "      <td>553</td>\n",
       "      <td>7.8</td>\n",
       "      <td>1.85</td>\n",
       "      <td>29000</td>\n",
       "    </tr>\n",
       "    <tr>\n",
       "      <th>4</th>\n",
       "      <td>David Yates</td>\n",
       "      <td>375.0</td>\n",
       "      <td>153.0</td>\n",
       "      <td>282</td>\n",
       "      <td>10000</td>\n",
       "      <td>Daniel Radcliffe</td>\n",
       "      <td>25000</td>\n",
       "      <td>301956980.0</td>\n",
       "      <td>Adventure</td>\n",
       "      <td>Alan Rickman</td>\n",
       "      <td>...</td>\n",
       "      <td>973.0</td>\n",
       "      <td>English</td>\n",
       "      <td>UK</td>\n",
       "      <td>PG</td>\n",
       "      <td>250000000.0</td>\n",
       "      <td>2009.0</td>\n",
       "      <td>11000</td>\n",
       "      <td>7.5</td>\n",
       "      <td>2.35</td>\n",
       "      <td>10000</td>\n",
       "    </tr>\n",
       "  </tbody>\n",
       "</table>\n",
       "<p>5 rows × 25 columns</p>\n",
       "</div>"
      ],
      "text/plain": [
       "       director_name  num_critic_for_reviews  duration  \\\n",
       "0     Gore Verbinski                   302.0     169.0   \n",
       "1  Christopher Nolan                   813.0     164.0   \n",
       "2     Andrew Stanton                   462.0     132.0   \n",
       "3       Nathan Greno                   324.0     100.0   \n",
       "4        David Yates                   375.0     153.0   \n",
       "\n",
       "   director_facebook_likes  actor_3_facebook_likes      actor_2_name  \\\n",
       "0                      563                    1000     Orlando Bloom   \n",
       "1                    22000                   23000    Christian Bale   \n",
       "2                      475                     530   Samantha Morton   \n",
       "3                       15                     284      Donna Murphy   \n",
       "4                      282                   10000  Daniel Radcliffe   \n",
       "\n",
       "   actor_1_facebook_likes        gross     genres  actor_1_name  ...  \\\n",
       "0                   40000  309404152.0     Action   Johnny Depp  ...   \n",
       "1                   27000  448130642.0     Action     Tom Hardy  ...   \n",
       "2                     640   73058679.0     Action  Daryl Sabara  ...   \n",
       "3                     799  200807262.0  Adventure  Brad Garrett  ...   \n",
       "4                   25000  301956980.0  Adventure  Alan Rickman  ...   \n",
       "\n",
       "  num_user_for_reviews  language  country content_rating       budget  \\\n",
       "0               1238.0   English      USA          PG-13  300000000.0   \n",
       "1               2701.0   English      USA          PG-13  250000000.0   \n",
       "2                738.0   English      USA          PG-13  263700000.0   \n",
       "3                387.0   English      USA             PG  260000000.0   \n",
       "4                973.0   English       UK             PG  250000000.0   \n",
       "\n",
       "   title_year actor_2_facebook_likes imdb_score aspect_ratio  \\\n",
       "0      2007.0                   5000        7.1         2.35   \n",
       "1      2012.0                  23000        8.5         2.35   \n",
       "2      2012.0                    632        6.6         2.35   \n",
       "3      2010.0                    553        7.8         1.85   \n",
       "4      2009.0                  11000        7.5         2.35   \n",
       "\n",
       "   movie_facebook_likes  \n",
       "0                     0  \n",
       "1                164000  \n",
       "2                 24000  \n",
       "3                 29000  \n",
       "4                 10000  \n",
       "\n",
       "[5 rows x 25 columns]"
      ]
     },
     "execution_count": 2,
     "metadata": {},
     "output_type": "execute_result"
    }
   ],
   "source": [
    "df = pd.read_csv('all_data.csv',delimiter= ',',encoding='latin1')\n",
    "# print(\"shape:\",df.shape)\n",
    "df.head()"
   ]
  },
  {
   "cell_type": "code",
   "execution_count": 3,
   "metadata": {},
   "outputs": [
    {
     "name": "stdout",
     "output_type": "stream",
     "text": [
      "director_name                 object\n",
      "num_critic_for_reviews       float64\n",
      "duration                     float64\n",
      "director_facebook_likes        int64\n",
      "actor_3_facebook_likes         int64\n",
      "actor_2_name                  object\n",
      "actor_1_facebook_likes         int64\n",
      "gross                        float64\n",
      "genres                        object\n",
      "actor_1_name                  object\n",
      "movie_title                   object\n",
      "num_voted_users                int64\n",
      "cast_total_facebook_likes      int64\n",
      "actor_3_name                  object\n",
      "facenumber_in_poster         float64\n",
      "num_user_for_reviews         float64\n",
      "language                      object\n",
      "country                       object\n",
      "content_rating                object\n",
      "budget                       float64\n",
      "title_year                   float64\n",
      "actor_2_facebook_likes         int64\n",
      "imdb_score                   float64\n",
      "aspect_ratio                 float64\n",
      "movie_facebook_likes           int64\n",
      "dtype: object\n"
     ]
    }
   ],
   "source": [
    "print(df.dtypes)"
   ]
  },
  {
   "cell_type": "markdown",
   "metadata": {},
   "source": [
    "Note: 24 columns should be read in from the the csv file.\n",
    "\n",
    "### Task 5.1\n",
    "Draw a star schema for this dataset, save your drawing as an image and display it in the the cell below.\n",
    "\n",
    "1. Your star schema should be composed of one fact table and three dimension tables. \n",
    "1. For each table, underline the primary key.\n",
    "1. Specify data types for each item.\n",
    "1. Draw 1:N, N:1, N:N or 1:1 on connecting line.\n",
    "1. Including image in markdown is easy, see [here](https://stackoverflow.com/questions/255170/markdown-and-image-alignment).\n",
    "\n",
    "Your final drawing should be similar to this [Schema Drawing Example](https://docs.google.com/drawings/d/1Bd1l9LGJZnNQD6BTcZtLHsxWW1a3v07zuUYzz0TyZOk/edit?usp=sharing). \n",
    "\n",
    "For this assignment, your fact table should only contain references to other facts. Sometimes 1-1 relationships are collapsed into the fact table, as is seen [here](https://www.guru99.com/images/1/022218_0758_StarandSnow1.png)\n",
    "\n",
    "\n",
    "Note: We recommended using ipe of Google Drawings. Google Drawngs is an online image creator that can be used to draw the Schema, and is what the TAs used to create the Schema in the solution."
   ]
  },
  {
   "cell_type": "code",
   "execution_count": null,
   "metadata": {},
   "outputs": [],
   "source": []
  },
  {
   "cell_type": "markdown",
   "metadata": {},
   "source": [
    "***Solution***\n",
    "Insert your schema drawing here. (Save your drawing as movie_star_jpg)\n",
    "\n",
    "![Movie Star Schema](movie_star_schema.jpg)"
   ]
  },
  {
   "cell_type": "markdown",
   "metadata": {},
   "source": [
    "### Design database schmea\n",
    " \n",
    "In this part, we will create a [SQLite3 database](https://docs.python.org/3/library/sqlite3.html).\n",
    "\n",
    "The first thing you'll need to do when interacting with a SQLite database (and generally any SQL databases) is to open up a connection (see below). If the database doesn't exist, the SQLite3 module will automatically create one (which can be helpful but also dangerous if your code is designed to automatically create a new instance of a database if one doesn't exist at the current connection).\n",
    "\n",
    "Resources:\n",
    "Use SQLite REPL, the [API documentation](https://docs.python.org/3/library/sqlite3.html) and the [SQLite Tutorial](https://www.sqlitetutorial.net/).\n"
   ]
  },
  {
   "cell_type": "code",
   "execution_count": 4,
   "metadata": {
    "jupyter": {}
   },
   "outputs": [],
   "source": [
    "import sqlite3\n",
    "import csv\n",
    "\n",
    "# creates a connection to the db. \n",
    "# This creates/re-opens the corresponding db file on disk because SQLite3 is a file-based databse.\n",
    "conn = sqlite3.connect('movie.db')    "
   ]
  },
  {
   "cell_type": "markdown",
   "metadata": {},
   "source": [
    "### Task 5.2 'create_database'\n",
    "Fill in function `create_database` with the following instructions.\n",
    "\n",
    "- [Drop all existing tables](https://www.techonthenet.com/sqlite/tables/drop_table.php) in the database. Doing this will allow us to simply re-run the script if we want to try a new schema.\n",
    "- [Create the tables](http://www.sqlitetutorial.net/sqlite-create-table) according to your star schema. \n",
    "\n",
    "**Note:** \n",
    "\n",
    "- To execute queries, simply run the `cursor.execute()` with your query as the argument.\n",
    "- Remember to to run `conn.commit()` in order to commit (i.e. save) your changes.\n",
    "- Remember to define `PRIMARY KEY`s and `FOREIGN KEY`s in your table, refer to [here](http://www.sqlitetutorial.net/sqlite-primary-key/).\n",
    "- Remember to commit the connection to save changes.\n",
    "- In SQLite, `INTEGER PRIMARY KEY` column is auto-incremented and is thus good for IDs\n",
    "- You may assume the names of actors and directors uniquely identify them"
   ]
  },
  {
   "cell_type": "code",
   "execution_count": 5,
   "metadata": {
    "jupyter": {}
   },
   "outputs": [],
   "source": [
    "def create_database(conn):\n",
    "    \"\"\"\n",
    "    Using the database connection conn, create tables appropriate for \n",
    "    storing and using IMDB data.  Drops any pre-exsiting tables that would be re-defined by this procedure.\n",
    "    \n",
    "    Arguments:\n",
    "        conn: database connection\n",
    "        c: a cursor on `\n",
    "    \"\"\"\n",
    "    # TODO: implement me'\n",
    "    c = conn.cursor()\n",
    "    \n",
    "    c.executescript('''\n",
    "    DROP TABLE IF EXISTS actors;\n",
    "    DROP TABLE IF EXISTS directors;\n",
    "    DROP TABLE IF EXISTS movies;\n",
    "    DROP TABLE IF EXISTS facts;\n",
    "    \n",
    "    PRAGMA foreign_keys=5;\n",
    "    \n",
    "    CREATE TABLE actors(\n",
    "        actor_id INTEGER PRIMARY KEY AUTOINCREMENT NOT NULL,\n",
    "        actor_name TEXT UNIQUE,\n",
    "        actor_fb_likes INTEGER);\n",
    "        \n",
    "    CREATE TABLE directors(\n",
    "        director_id INTEGER PRIMARY KEY AUTOINCREMENT NOT NULL,\n",
    "        director_name TEXT UNIQUE,\n",
    "        director_fb_likes INTEGER);\n",
    "        \n",
    "    CREATE TABLE movies(\n",
    "        movie_id INTEGER PRIMARY KEY AUTOINCREMENT NOT NULL,\n",
    "        num_critic_for_reviews REAL,\n",
    "        duration REAL, \n",
    "        gross REAL,\n",
    "        genres REAL,\n",
    "        movie_title TEXT,\n",
    "        num_voted_users INTEGER,\n",
    "        cast_total_fb_likes INTEGER,\n",
    "        facenumber_in_poster REAL,\n",
    "        num_user_for_reviews INTEGER,\n",
    "        language TEXT,\n",
    "        country TEXT,\n",
    "        content_rating REAL,\n",
    "        budget REAL,\n",
    "        title_year INTEGER,\n",
    "        imdb_score REAL,\n",
    "        aspect_ratio REAL,\n",
    "        movie_fb_likes INTEGER);\n",
    "        \n",
    "    CREATE TABLE facts(\n",
    "        movie_id INTEGER NOT NULL,\n",
    "        director_id INTEGER NOT NULL,\n",
    "        actor_1_id INTEGER NOT NULL,\n",
    "        actor_2_id INTEGER NOT NULL,\n",
    "        actor_3_id INTEGER NOT NULL,\n",
    "        FOREIGN KEY(director_id) REFERENCES directors(director_id),\n",
    "        FOREIGN KEY(movie_id) REFERENCES movies(movie_id),\n",
    "        FOREIGN KEY(actor_1_id) REFERENCES actors(actor_id),\n",
    "        FOREIGN KEY(actor_2_id) REFERENCES actors(actor_id),\n",
    "        FOREIGN KEY(actor_3_id) REFERENCES actors(actor_id),\n",
    "        PRIMARY KEY(movie_id, director_id, actor_1_id, actor_2_id, actor_3_id));\n",
    "    \n",
    "    ''')\n",
    "    \n",
    "    conn.commit()\n",
    "    \n",
    "create_database(conn)"
   ]
  },
  {
   "cell_type": "markdown",
   "metadata": {},
   "source": [
    "Your new sqlite3 database should now be in your assignment directory. Most databases have simple command line interfaces that let you inspect and manipulate there contents. Use sqlite3's command interface to play around with your database! \n",
    "\n",
    "You can connect to a sqlite3 database via terminal with the following command:\n",
    "```\n",
    "sqlite3 move.db\n",
    "```\n",
    "You can execute arbitrary SQL commands from the `sqlite>` prompt.\n",
    "\n",
    "To see the schema of your table, you can run the following command in sqlite REPL:\n",
    "```\n",
    ".schema\n",
    "```\n",
    "\n",
    "More info on your other options can be found here.\n",
    "```\n",
    ".help\n",
    "```\n",
    "\n",
    "Finally, to exit from a sqlite3 database use the following command:\n",
    "~~~~\n",
    ".exit\n",
    "~~~~"
   ]
  },
  {
   "cell_type": "markdown",
   "metadata": {},
   "source": [
    "#### Update database\n",
    "\n",
    "Many database examples begin with different csv files, one for each table. \n",
    "However, this isn't how real world data is typically structured when you first receive it. \n",
    "\n",
    "Often, you will receive data \"dump\" files.  As a data scientist, you need to figure out how to split it into different tables, and insert the information into a live database."
   ]
  },
  {
   "cell_type": "markdown",
   "metadata": {},
   "source": [
    "~~~~\n",
    "director_name\n",
    "num_critic_for_reviews\n",
    "duration\n",
    "director_facebook_likes\n",
    "actor_3_facebook_likes\n",
    "actor_2_name\n",
    "actor_1_facebook_likes\n",
    "gross\n",
    "genres\n",
    "actor_1_name\n",
    "movie_title\n",
    "num_voted_users\n",
    "cast_total_facebook_likes\n",
    "actor_3_name\n",
    "facenumber_in_poster\n",
    "num_user_for_reviews\n",
    "language\n",
    "country\n",
    "content_rating\n",
    "budget\n",
    "title_year\n",
    "actor_2_facebook_likes\n",
    "imdb_score\n",
    "aspect_ratio\n",
    "movie_facebook_likes\n",
    "~~~~"
   ]
  },
  {
   "cell_type": "markdown",
   "metadata": {},
   "source": [
    "***\n",
    "### Task 5.3: Update Database\n",
    "Fill in function `update_database` to insert the csv file contents into the movie database.  You might find the list of column definitions above helpful.  Do not assume the database is empty.  Inserting the exact same data a second time should not change the database.\n",
    "\n",
    "Tips:   \n",
    "1. Consider using `INSERT OR IGNORE INTO` where suitable\n",
    "2. Use helper function to avoid redundant code\n",
    "3. In order to populate the fact table you will need to query them in order to retrieve the each dimension row id. Here is some SQL code that does this that you are welcome to use.\n",
    "    ```sql\n",
    "    INSERT OR IGNORE INTO facts \n",
    "    SELECT m.movie_id, d.director_id, a1.actor_id, a2.actor_id, a3.actor_id\n",
    "    FROM movies m, directors d, actors a1, actors a2, actors a3\n",
    "    WHERE m.movie_title = ? AND d.director_name = ? AND a1.actor_name = ? \n",
    "    AND a2.actor_name = ? AND a3.actor_name = ?\n",
    "    ```"
   ]
  },
  {
   "cell_type": "code",
   "execution_count": 6,
   "metadata": {
    "jupyter": {}
   },
   "outputs": [
    {
     "name": "stdout",
     "output_type": "stream",
     "text": [
      "['director_name', 'num_critic_for_reviews', 'duration', 'director_facebook_likes', 'actor_3_facebook_likes', 'actor_2_name', 'actor_1_facebook_likes', 'gross', 'genres', 'actor_1_name', 'movie_title', 'num_voted_users', 'cast_total_facebook_likes', 'actor_3_name', 'facenumber_in_poster', 'num_user_for_reviews', 'language', 'country', 'content_rating', 'budget', 'title_year', 'actor_2_facebook_likes', 'imdb_score', 'aspect_ratio', 'movie_facebook_likes']\n",
      "DONE\n"
     ]
    }
   ],
   "source": [
    "import csv\n",
    "import sqlite3\n",
    "\n",
    "\n",
    "def update_database(conn, csv_file):\n",
    "    reader = csv.DictReader(open(csv_file, encoding='latin1'))\n",
    "    c = conn.cursor()\n",
    "    print(reader.fieldnames)\n",
    "    # TODO: implement me\n",
    "    for row in reader:\n",
    "        # each row is a dictionary, where the column names are the keys\n",
    "        row = {k: v.lower() for k, v in row.items()} \n",
    "#         print(row)\n",
    "        actors_vals_to_insert = (row['actor_1_name'],row['actor_1_facebook_likes'])\n",
    "        c.execute('''INSERT OR IGNORE INTO actors (actor_name, actor_fb_likes)\n",
    "        VALUES (?, ?)''', actors_vals_to_insert)\n",
    "        \n",
    "        actors_vals_to_insert = (row['actor_2_name'],row['actor_2_facebook_likes'])\n",
    "        c.execute('''INSERT OR IGNORE INTO actors (actor_name, actor_fb_likes)\n",
    "        VALUES (?, ?)''', actors_vals_to_insert)\n",
    "        \n",
    "        actors_vals_to_insert = (row['actor_3_name'],row['actor_3_facebook_likes'])\n",
    "        c.execute('''INSERT OR IGNORE INTO actors (actor_name, actor_fb_likes)\n",
    "        VALUES (?, ?)''', actors_vals_to_insert)\n",
    "        \n",
    "        directors_vals_to_insert = (row['director_name'],row['director_facebook_likes'])\n",
    "        c.execute('''INSERT OR IGNORE INTO directors (director_name, director_fb_likes)\n",
    "        VALUES (?, ?)''', directors_vals_to_insert)\n",
    "        \n",
    "        movies_vals_to_insert = (row['num_critic_for_reviews'], row['duration'],\n",
    "                                row['gross'],row['genres'],row['movie_title'],\n",
    "                                row['num_voted_users'],row['cast_total_facebook_likes'],\n",
    "                                row['facenumber_in_poster'],row['num_user_for_reviews'],\n",
    "                                row['language'],row['country'],row['content_rating'],\n",
    "                                row['budget'],row['title_year'],row['imdb_score'],\n",
    "                                row['aspect_ratio'],row['movie_facebook_likes'])\n",
    "        c.execute('''INSERT OR IGNORE INTO movies (num_critic_for_reviews, duration,\n",
    "        gross, genres, movie_title, num_voted_users, cast_total_fb_likes, facenumber_in_poster,\n",
    "        num_user_for_reviews, language, country, content_rating, budget, title_year, imdb_score,\n",
    "        aspect_ratio, movie_fb_likes) VALUES(?, ?, ?, ?, ?, ?, ?, ?, ?, ?, ?, ?, ?, ?, ?, ?, ?)''',\n",
    "                  movies_vals_to_insert)\n",
    "        \n",
    "        fact_vals_to_insert = (row['movie_title'], row['director_name'], row['actor_1_name'], row['actor_2_name'], row['actor_3_name'])\n",
    "        c.execute('''INSERT OR IGNORE INTO facts \n",
    "        SELECT m.movie_id, d.director_id, a1.actor_id, a2.actor_id, a3.actor_id\n",
    "        FROM movies m, directors d, actors a1, actors a2, actors a3\n",
    "        WHERE m.movie_title = ? AND d.director_name = ? AND a1.actor_name = ? \n",
    "        AND a2.actor_name = ? AND a3.actor_name = ?''', fact_vals_to_insert)\n",
    "        \n",
    "        \n",
    "        conn.commit()\n",
    "        \n",
    "                                \n",
    "# create_database(conn)\n",
    "update_database(conn, 'all_data.csv')\n",
    "print(\"DONE\")"
   ]
  },
  {
   "cell_type": "markdown",
   "metadata": {},
   "source": [
    "***\n",
    "### Task 5.4: Running Queries\n",
    "\n",
    "Now that you have created a database with the IMDB data. Your customer needs records that satisfy their requirements based on several constraints in order to improve their business revenue. \n",
    "In this part, you will create several SQL statements to extract them. \n",
    "\n",
    "IPython has a built-in module called [sql](https://pypi.python.org/pypi/ipython-sql) which allows us to easily interface with a database. The following two lines load this SQL extension and connect to your IMDB database:"
   ]
  },
  {
   "cell_type": "code",
   "execution_count": 7,
   "metadata": {
    "jupyter": {}
   },
   "outputs": [],
   "source": [
    "!pip install -q ipython-sql --user"
   ]
  },
  {
   "cell_type": "code",
   "execution_count": 8,
   "metadata": {
    "jupyter": {}
   },
   "outputs": [
    {
     "data": {
      "text/plain": [
       "'Connected: @movie.db'"
      ]
     },
     "execution_count": 8,
     "metadata": {},
     "output_type": "execute_result"
    }
   ],
   "source": [
    "%reload_ext sql\n",
    "%sql sqlite:///movie.db"
   ]
  },
  {
   "cell_type": "markdown",
   "metadata": {},
   "source": [
    "Your task is to write 10 queries that fetch certain records for your customers. To run SQL queries, first call <font color = \"red\">%%sql</font> magic and then write your SQL queries."
   ]
  },
  {
   "cell_type": "markdown",
   "metadata": {},
   "source": [
    "**Query 5.4.1: Find the number of directors in the directors table.**\n"
   ]
  },
  {
   "cell_type": "code",
   "execution_count": 9,
   "metadata": {
    "jupyter": {}
   },
   "outputs": [
    {
     "name": "stdout",
     "output_type": "stream",
     "text": [
      " * sqlite:///movie.db\n",
      "Done.\n"
     ]
    },
    {
     "data": {
      "text/html": [
       "<table>\n",
       "    <tr>\n",
       "        <th>COUNT(DISTINCT(director_name))</th>\n",
       "    </tr>\n",
       "    <tr>\n",
       "        <td>1453</td>\n",
       "    </tr>\n",
       "</table>"
      ],
      "text/plain": [
       "[(1453,)]"
      ]
     },
     "execution_count": 9,
     "metadata": {},
     "output_type": "execute_result"
    }
   ],
   "source": [
    "%%sql\n",
    "SELECT COUNT(DISTINCT(director_name)) FROM directors"
   ]
  },
  {
   "cell_type": "markdown",
   "metadata": {},
   "source": [
    "\n",
    "**Query 5.4.2: Find the number of actors in the actors table.**\n"
   ]
  },
  {
   "cell_type": "code",
   "execution_count": 10,
   "metadata": {
    "jupyter": {}
   },
   "outputs": [
    {
     "name": "stdout",
     "output_type": "stream",
     "text": [
      " * sqlite:///movie.db\n",
      "Done.\n"
     ]
    },
    {
     "data": {
      "text/html": [
       "<table>\n",
       "    <tr>\n",
       "        <th>COUNT(DISTINCT(actor_name))</th>\n",
       "    </tr>\n",
       "    <tr>\n",
       "        <td>3872</td>\n",
       "    </tr>\n",
       "</table>"
      ],
      "text/plain": [
       "[(3872,)]"
      ]
     },
     "execution_count": 10,
     "metadata": {},
     "output_type": "execute_result"
    }
   ],
   "source": [
    "%%sql\n",
    "SELECT COUNT(DISTINCT(actor_name)) FROM actors"
   ]
  },
  {
   "cell_type": "markdown",
   "metadata": {},
   "source": [
    "\n",
    "**Query 5.4.3: Find the number of movies in the movies table.**\n"
   ]
  },
  {
   "cell_type": "code",
   "execution_count": 11,
   "metadata": {
    "jupyter": {}
   },
   "outputs": [
    {
     "name": "stdout",
     "output_type": "stream",
     "text": [
      " * sqlite:///movie.db\n",
      "Done.\n"
     ]
    },
    {
     "data": {
      "text/html": [
       "<table>\n",
       "    <tr>\n",
       "        <th>COUNT(DISTINCT(movie_title))</th>\n",
       "    </tr>\n",
       "    <tr>\n",
       "        <td>3023</td>\n",
       "    </tr>\n",
       "</table>"
      ],
      "text/plain": [
       "[(3023,)]"
      ]
     },
     "execution_count": 11,
     "metadata": {},
     "output_type": "execute_result"
    }
   ],
   "source": [
    "%%sql\n",
    "SELECT COUNT(DISTINCT(movie_title)) FROM movies"
   ]
  },
  {
   "cell_type": "markdown",
   "metadata": {},
   "source": [
    "\n",
    "There should be 1453 directors, 3872 actors, 3023 movies. Please make sure you get the same results before running the following queries.\n",
    "\n",
    "Now, we can have some fun querying the database!\n",
    "\n",
    "**Query 5.4.4: Find years that have more than 100 movies and arrange them in ascending order.**\n"
   ]
  },
  {
   "cell_type": "code",
   "execution_count": 12,
   "metadata": {
    "jupyter": {}
   },
   "outputs": [
    {
     "name": "stdout",
     "output_type": "stream",
     "text": [
      " * sqlite:///movie.db\n",
      "Done.\n"
     ]
    },
    {
     "data": {
      "text/html": [
       "<table>\n",
       "    <tr>\n",
       "        <th>title_year</th>\n",
       "        <th>COUNT(title_year)</th>\n",
       "    </tr>\n",
       "    <tr>\n",
       "        <td>1999</td>\n",
       "        <td>125</td>\n",
       "    </tr>\n",
       "    <tr>\n",
       "        <td>2000</td>\n",
       "        <td>123</td>\n",
       "    </tr>\n",
       "    <tr>\n",
       "        <td>2001</td>\n",
       "        <td>147</td>\n",
       "    </tr>\n",
       "    <tr>\n",
       "        <td>2002</td>\n",
       "        <td>162</td>\n",
       "    </tr>\n",
       "    <tr>\n",
       "        <td>2003</td>\n",
       "        <td>116</td>\n",
       "    </tr>\n",
       "    <tr>\n",
       "        <td>2004</td>\n",
       "        <td>146</td>\n",
       "    </tr>\n",
       "    <tr>\n",
       "        <td>2005</td>\n",
       "        <td>148</td>\n",
       "    </tr>\n",
       "    <tr>\n",
       "        <td>2006</td>\n",
       "        <td>155</td>\n",
       "    </tr>\n",
       "    <tr>\n",
       "        <td>2007</td>\n",
       "        <td>120</td>\n",
       "    </tr>\n",
       "    <tr>\n",
       "        <td>2008</td>\n",
       "        <td>151</td>\n",
       "    </tr>\n",
       "    <tr>\n",
       "        <td>2009</td>\n",
       "        <td>142</td>\n",
       "    </tr>\n",
       "    <tr>\n",
       "        <td>2010</td>\n",
       "        <td>142</td>\n",
       "    </tr>\n",
       "    <tr>\n",
       "        <td>2011</td>\n",
       "        <td>147</td>\n",
       "    </tr>\n",
       "    <tr>\n",
       "        <td>2012</td>\n",
       "        <td>133</td>\n",
       "    </tr>\n",
       "    <tr>\n",
       "        <td>2013</td>\n",
       "        <td>130</td>\n",
       "    </tr>\n",
       "    <tr>\n",
       "        <td>2014</td>\n",
       "        <td>118</td>\n",
       "    </tr>\n",
       "</table>"
      ],
      "text/plain": [
       "[(1999, 125),\n",
       " (2000, 123),\n",
       " (2001, 147),\n",
       " (2002, 162),\n",
       " (2003, 116),\n",
       " (2004, 146),\n",
       " (2005, 148),\n",
       " (2006, 155),\n",
       " (2007, 120),\n",
       " (2008, 151),\n",
       " (2009, 142),\n",
       " (2010, 142),\n",
       " (2011, 147),\n",
       " (2012, 133),\n",
       " (2013, 130),\n",
       " (2014, 118)]"
      ]
     },
     "execution_count": 12,
     "metadata": {},
     "output_type": "execute_result"
    }
   ],
   "source": [
    "%%sql\n",
    "SELECT title_year, COUNT(title_year)\n",
    "FROM movies\n",
    "GROUP BY title_year\n",
    "Having COUNT(title_year) > 100\n",
    "ORDER BY title_year ASC"
   ]
  },
  {
   "cell_type": "markdown",
   "metadata": {},
   "source": [
    "\n",
    "**Query 5.4.5: Order director name from most Facebook likes to fewest Facebook likes and only show top 10 directors.**\n"
   ]
  },
  {
   "cell_type": "code",
   "execution_count": 13,
   "metadata": {
    "jupyter": {}
   },
   "outputs": [
    {
     "name": "stdout",
     "output_type": "stream",
     "text": [
      " * sqlite:///movie.db\n",
      "Done.\n"
     ]
    },
    {
     "data": {
      "text/html": [
       "<table>\n",
       "    <tr>\n",
       "        <th>director_name</th>\n",
       "        <th>SUM(director_fb_likes)</th>\n",
       "    </tr>\n",
       "    <tr>\n",
       "        <td>joseph gordon-levitt</td>\n",
       "        <td>23000</td>\n",
       "    </tr>\n",
       "    <tr>\n",
       "        <td>christopher nolan</td>\n",
       "        <td>22000</td>\n",
       "    </tr>\n",
       "    <tr>\n",
       "        <td>david fincher</td>\n",
       "        <td>21000</td>\n",
       "    </tr>\n",
       "    <tr>\n",
       "        <td>denzel washington</td>\n",
       "        <td>18000</td>\n",
       "    </tr>\n",
       "    <tr>\n",
       "        <td>kevin spacey</td>\n",
       "        <td>18000</td>\n",
       "    </tr>\n",
       "    <tr>\n",
       "        <td>martin scorsese</td>\n",
       "        <td>17000</td>\n",
       "    </tr>\n",
       "    <tr>\n",
       "        <td>clint eastwood</td>\n",
       "        <td>16000</td>\n",
       "    </tr>\n",
       "    <tr>\n",
       "        <td>quentin tarantino</td>\n",
       "        <td>16000</td>\n",
       "    </tr>\n",
       "    <tr>\n",
       "        <td>tom hanks</td>\n",
       "        <td>15000</td>\n",
       "    </tr>\n",
       "    <tr>\n",
       "        <td>j.j. abrams</td>\n",
       "        <td>14000</td>\n",
       "    </tr>\n",
       "</table>"
      ],
      "text/plain": [
       "[('joseph gordon-levitt', 23000),\n",
       " ('christopher nolan', 22000),\n",
       " ('david fincher', 21000),\n",
       " ('denzel washington', 18000),\n",
       " ('kevin spacey', 18000),\n",
       " ('martin scorsese', 17000),\n",
       " ('clint eastwood', 16000),\n",
       " ('quentin tarantino', 16000),\n",
       " ('tom hanks', 15000),\n",
       " ('j.j. abrams', 14000)]"
      ]
     },
     "execution_count": 13,
     "metadata": {},
     "output_type": "execute_result"
    }
   ],
   "source": [
    "%%sql\n",
    "SELECT director_name, SUM(director_fb_likes)\n",
    "FROM directors\n",
    "GROUP BY director_name\n",
    "ORDER BY SUM(director_fb_likes) DESC\n",
    "LIMIT 10"
   ]
  },
  {
   "cell_type": "markdown",
   "metadata": {},
   "source": [
    "\n",
    "**Query 5.4.6: Find the titles of movies that are directed by Christopher Nolan and order them by movie title.**\n"
   ]
  },
  {
   "cell_type": "code",
   "execution_count": 14,
   "metadata": {
    "jupyter": {}
   },
   "outputs": [
    {
     "name": "stdout",
     "output_type": "stream",
     "text": [
      " * sqlite:///movie.db\n",
      "Done.\n"
     ]
    },
    {
     "data": {
      "text/html": [
       "<table>\n",
       "    <tr>\n",
       "        <th>movie_title</th>\n",
       "    </tr>\n",
       "    <tr>\n",
       "        <td>batman begins</td>\n",
       "    </tr>\n",
       "    <tr>\n",
       "        <td>inception</td>\n",
       "    </tr>\n",
       "    <tr>\n",
       "        <td>insomnia</td>\n",
       "    </tr>\n",
       "    <tr>\n",
       "        <td>interstellar</td>\n",
       "    </tr>\n",
       "    <tr>\n",
       "        <td>memento</td>\n",
       "    </tr>\n",
       "    <tr>\n",
       "        <td>the dark knight</td>\n",
       "    </tr>\n",
       "    <tr>\n",
       "        <td>the dark knight rises</td>\n",
       "    </tr>\n",
       "    <tr>\n",
       "        <td>the prestige</td>\n",
       "    </tr>\n",
       "</table>"
      ],
      "text/plain": [
       "[('batman begins',),\n",
       " ('inception',),\n",
       " ('insomnia',),\n",
       " ('interstellar',),\n",
       " ('memento',),\n",
       " ('the dark knight',),\n",
       " ('the dark knight rises',),\n",
       " ('the prestige',)]"
      ]
     },
     "execution_count": 14,
     "metadata": {},
     "output_type": "execute_result"
    }
   ],
   "source": [
    "%%sql\n",
    "SELECT m.movie_title AS movie_title\n",
    "FROM movies m, directors d, facts f\n",
    "ON f.movie_id = m.movie_id AND f.director_id = d.director_id\n",
    "WHERE director_name == \"christopher nolan\"\n",
    "GROUP BY movie_title"
   ]
  },
  {
   "cell_type": "markdown",
   "metadata": {},
   "source": [
    "**Query 5.4.7: Find all the directors who directed at least 5 movies since 2007 (included) sorted by the number of movies in descending order.**\n"
   ]
  },
  {
   "cell_type": "code",
   "execution_count": 15,
   "metadata": {
    "jupyter": {}
   },
   "outputs": [
    {
     "name": "stdout",
     "output_type": "stream",
     "text": [
      " * sqlite:///movie.db\n",
      "Done.\n"
     ]
    },
    {
     "data": {
      "text/html": [
       "<table>\n",
       "    <tr>\n",
       "        <th>director_name</th>\n",
       "        <th>title_year</th>\n",
       "        <th>sum_movie_title</th>\n",
       "    </tr>\n",
       "    <tr>\n",
       "        <td>clint eastwood</td>\n",
       "        <td>2009</td>\n",
       "        <td>7</td>\n",
       "    </tr>\n",
       "    <tr>\n",
       "        <td>ethan coen</td>\n",
       "        <td>2008</td>\n",
       "        <td>6</td>\n",
       "    </tr>\n",
       "    <tr>\n",
       "        <td>shawn levy</td>\n",
       "        <td>2009</td>\n",
       "        <td>6</td>\n",
       "    </tr>\n",
       "    <tr>\n",
       "        <td>steven spielberg</td>\n",
       "        <td>2008</td>\n",
       "        <td>6</td>\n",
       "    </tr>\n",
       "    <tr>\n",
       "        <td>woody allen</td>\n",
       "        <td>2011</td>\n",
       "        <td>6</td>\n",
       "    </tr>\n",
       "    <tr>\n",
       "        <td>andy fickman</td>\n",
       "        <td>2009</td>\n",
       "        <td>5</td>\n",
       "    </tr>\n",
       "    <tr>\n",
       "        <td>antoine fuqua</td>\n",
       "        <td>2013</td>\n",
       "        <td>5</td>\n",
       "    </tr>\n",
       "    <tr>\n",
       "        <td>david ayer</td>\n",
       "        <td>2016</td>\n",
       "        <td>5</td>\n",
       "    </tr>\n",
       "    <tr>\n",
       "        <td>david fincher</td>\n",
       "        <td>2008</td>\n",
       "        <td>5</td>\n",
       "    </tr>\n",
       "    <tr>\n",
       "        <td>dennis dugan</td>\n",
       "        <td>2008</td>\n",
       "        <td>5</td>\n",
       "    </tr>\n",
       "    <tr>\n",
       "        <td>francis lawrence</td>\n",
       "        <td>2015</td>\n",
       "        <td>5</td>\n",
       "    </tr>\n",
       "    <tr>\n",
       "        <td>jon m. chu</td>\n",
       "        <td>2013</td>\n",
       "        <td>5</td>\n",
       "    </tr>\n",
       "    <tr>\n",
       "        <td>paul w.s. anderson</td>\n",
       "        <td>2011</td>\n",
       "        <td>5</td>\n",
       "    </tr>\n",
       "    <tr>\n",
       "        <td>robert schwentke</td>\n",
       "        <td>2013</td>\n",
       "        <td>5</td>\n",
       "    </tr>\n",
       "    <tr>\n",
       "        <td>roland emmerich</td>\n",
       "        <td>2009</td>\n",
       "        <td>5</td>\n",
       "    </tr>\n",
       "    <tr>\n",
       "        <td>ron howard</td>\n",
       "        <td>2009</td>\n",
       "        <td>5</td>\n",
       "    </tr>\n",
       "    <tr>\n",
       "        <td>tim story</td>\n",
       "        <td>2007</td>\n",
       "        <td>5</td>\n",
       "    </tr>\n",
       "</table>"
      ],
      "text/plain": [
       "[('clint eastwood', 2009, 7),\n",
       " ('ethan coen', 2008, 6),\n",
       " ('shawn levy', 2009, 6),\n",
       " ('steven spielberg', 2008, 6),\n",
       " ('woody allen', 2011, 6),\n",
       " ('andy fickman', 2009, 5),\n",
       " ('antoine fuqua', 2013, 5),\n",
       " ('david ayer', 2016, 5),\n",
       " ('david fincher', 2008, 5),\n",
       " ('dennis dugan', 2008, 5),\n",
       " ('francis lawrence', 2015, 5),\n",
       " ('jon m. chu', 2013, 5),\n",
       " ('paul w.s. anderson', 2011, 5),\n",
       " ('robert schwentke', 2013, 5),\n",
       " ('roland emmerich', 2009, 5),\n",
       " ('ron howard', 2009, 5),\n",
       " ('tim story', 2007, 5)]"
      ]
     },
     "execution_count": 15,
     "metadata": {},
     "output_type": "execute_result"
    }
   ],
   "source": [
    "%%sql\n",
    "SELECT d.director_name AS director_name, m.title_year AS title_year,COUNT(DISTINCT(m.movie_title)) AS sum_movie_title\n",
    "FROM movies m, directors d, facts f\n",
    "ON f.movie_id = m.movie_id AND f.director_id = d.director_id\n",
    "WHERE m.title_year >= 2007\n",
    "GROUP BY d.director_name\n",
    "HAVING sum_movie_title >= 5\n",
    "ORDER BY sum_movie_title DESC"
   ]
  },
  {
   "cell_type": "markdown",
   "metadata": {},
   "source": [
    "\n",
    "**Query 5.4.8: Find the top five most productive actors since 2010 (included).**\n"
   ]
  },
  {
   "cell_type": "code",
   "execution_count": 16,
   "metadata": {
    "jupyter": {}
   },
   "outputs": [
    {
     "name": "stdout",
     "output_type": "stream",
     "text": [
      " * sqlite:///movie.db\n",
      "Done.\n"
     ]
    },
    {
     "data": {
      "text/html": [
       "<table>\n",
       "    <tr>\n",
       "        <th>actor_id</th>\n",
       "        <th>actor_name</th>\n",
       "        <th>count</th>\n",
       "    </tr>\n",
       "    <tr>\n",
       "        <td>43</td>\n",
       "        <td>liam neeson</td>\n",
       "        <td>13</td>\n",
       "    </tr>\n",
       "    <tr>\n",
       "        <td>138</td>\n",
       "        <td>steve carell</td>\n",
       "        <td>12</td>\n",
       "    </tr>\n",
       "    <tr>\n",
       "        <td>190</td>\n",
       "        <td>bradley cooper</td>\n",
       "        <td>11</td>\n",
       "    </tr>\n",
       "    <tr>\n",
       "        <td>205</td>\n",
       "        <td>jennifer lawrence</td>\n",
       "        <td>11</td>\n",
       "    </tr>\n",
       "    <tr>\n",
       "        <td>298</td>\n",
       "        <td>channing tatum</td>\n",
       "        <td>11</td>\n",
       "    </tr>\n",
       "</table>"
      ],
      "text/plain": [
       "[(43, 'liam neeson', 13),\n",
       " (138, 'steve carell', 12),\n",
       " (190, 'bradley cooper', 11),\n",
       " (205, 'jennifer lawrence', 11),\n",
       " (298, 'channing tatum', 11)]"
      ]
     },
     "execution_count": 16,
     "metadata": {},
     "output_type": "execute_result"
    }
   ],
   "source": [
    "%%sql\n",
    "SELECT a.actor_id, a.actor_name, COUNT(*) AS count FROM actors AS a\n",
    "JOIN facts AS f ON f.actor_1_id = a.actor_id OR f.actor_2_id = a.actor_id OR f.actor_3_id = a.actor_id\n",
    "JOIN movies AS m ON m.movie_id = f.movie_id AND m.title_year >= 2010\n",
    "GROUP BY a.actor_id\n",
    "ORDER BY count DESC\n",
    "LIMIT 5"
   ]
  },
  {
   "cell_type": "markdown",
   "metadata": {},
   "source": [
    "***\n",
    "### Query Optimization\n",
    "In this part, we will see how to optimize database access by indexing and using materialized views. \n",
    "\n",
    "The next three functions create and exercise a toy database.\n",
    "`setup_test` creates a connection to the database.  `insert_test` performs `num` SQL `SELECT`s, the  function `select_test` does `num` SQL `INSERT`s.  "
   ]
  },
  {
   "cell_type": "code",
   "execution_count": 17,
   "metadata": {
    "jupyter": {}
   },
   "outputs": [],
   "source": [
    "def setup_test(db):\n",
    "    conn = sqlite3.connect(db)\n",
    "    conn.execute('DROP TABLE IF EXISTS scripts')\n",
    "    conn.execute('''\n",
    "            CREATE TABLE scripts (\n",
    "                script_id INTEGER,\n",
    "                author_name text,\n",
    "                script_name text,\n",
    "                author_facebook_likes int,\n",
    "                PRIMARY KEY(script_id))\n",
    "                ''')\n",
    "    conn.commit()\n",
    "    return conn\n",
    "                \n",
    "\n",
    "def insert_test(conn, num):\n",
    "    c = conn.cursor()\n",
    "    for i in range(num):\n",
    "        c.execute('''INSERT INTO scripts (script_name) VALUES ('Dr. Who %d')'''%i)\n",
    "    conn.commit()\n",
    "\n",
    "def select_test(conn, num):\n",
    "    c = conn.cursor()\n",
    "    for i in range(num):\n",
    "        c.execute('''SELECT * \n",
    "                     FROM scripts\n",
    "                     WHERE script_name = \"Dr. Who %d\"'''%i)\n",
    "\n"
   ]
  },
  {
   "cell_type": "markdown",
   "metadata": {},
   "source": [
    "Below is some code for benchmarking your database.  Run it to see how well your database currently performs."
   ]
  },
  {
   "cell_type": "code",
   "execution_count": 18,
   "metadata": {
    "jupyter": {}
   },
   "outputs": [],
   "source": [
    "conn = setup_test('test.db')\n",
    "insert_test(conn, 15000)"
   ]
  },
  {
   "cell_type": "code",
   "execution_count": 19,
   "metadata": {
    "jupyter": {}
   },
   "outputs": [
    {
     "name": "stdout",
     "output_type": "stream",
     "text": [
      "94.4 ms ± 10 ms per loop (mean ± std. dev. of 3 runs, 3 loops each)\n"
     ]
    }
   ],
   "source": [
    "%timeit -n 3 -r 3 insert_test(conn, 15000)"
   ]
  },
  {
   "cell_type": "code",
   "execution_count": 20,
   "metadata": {
    "jupyter": {}
   },
   "outputs": [
    {
     "name": "stdout",
     "output_type": "stream",
     "text": [
      "830 ms ± 6.31 ms per loop (mean ± std. dev. of 3 runs, 3 loops each)\n"
     ]
    }
   ],
   "source": [
    "%timeit -n 3 -r 3 select_test(conn, 5000) "
   ]
  },
  {
   "cell_type": "markdown",
   "metadata": {},
   "source": [
    "Optimize the database so that `test_select` test performs more quickly.  Fill in the appropriate SQL commands in the cell below.  \n",
    "\n",
    "Hint: try adding an INDEX. See [here](http://www.sqlitetutorial.net/sqlite-index/) for some information on  `INDEX` and `CREATE INDEX`."
   ]
  },
  {
   "cell_type": "code",
   "execution_count": 21,
   "metadata": {
    "jupyter": {}
   },
   "outputs": [],
   "source": [
    "conn1 = setup_test('test1.db')\n",
    "# YOUR CODE HERE:\n",
    "c = conn1.cursor()\n",
    "c.execute('''\n",
    "    CREATE INDEX idx_test_name\n",
    "    ON scripts(script_name)''')\n",
    "conn1.commit()"
   ]
  },
  {
   "cell_type": "markdown",
   "metadata": {},
   "source": [
    "Run the following code to see how your optimization performs."
   ]
  },
  {
   "cell_type": "code",
   "execution_count": 22,
   "metadata": {
    "jupyter": {}
   },
   "outputs": [
    {
     "name": "stdout",
     "output_type": "stream",
     "text": [
      "137 ms ± 20.2 ms per loop (mean ± std. dev. of 3 runs, 3 loops each)\n"
     ]
    }
   ],
   "source": [
    "%timeit -n 3 -r 3 insert_test(conn1, 15000)"
   ]
  },
  {
   "cell_type": "code",
   "execution_count": 23,
   "metadata": {
    "jupyter": {}
   },
   "outputs": [
    {
     "name": "stdout",
     "output_type": "stream",
     "text": [
      "155 ms ± 7.73 ms per loop (mean ± std. dev. of 3 runs, 3 loops each)\n"
     ]
    }
   ],
   "source": [
    "%timeit -n 3 -r 3 select_test(conn1, 5000) "
   ]
  },
  {
   "cell_type": "markdown",
   "metadata": {},
   "source": [
    "### Task 5.5: Index trade-offs\n",
    "Explain the performance changes you see.  Have any trade-offs been made?"
   ]
  },
  {
   "cell_type": "markdown",
   "metadata": {},
   "source": [
    "***Solution***    \n",
    "\n",
    "We can see that the time for insert increases and the time for select decreases. Selecting using index is the same as looking up in the dictionary, thus the time reduces. However, inserting requires updating the dictionary, thus time increases. "
   ]
  },
  {
   "cell_type": "markdown",
   "metadata": {},
   "source": [
    "## Running Queries in BigQuery\n",
    "\n",
    "Go back to the Google Doc for instructions on the BigQuery section of the assignment. \n",
    "\n",
    "Add your solutions below."
   ]
  },
  {
   "cell_type": "markdown",
   "metadata": {},
   "source": [
    "Your solutions below:\n",
    "\n",
    "#### Query 5.6.1 Question Count\n",
    "```python\n",
    "SELECT COUNT(*) \n",
    "FROM `bigquery-public-data.stackoverflow.posts_questions`\n",
    "WHERE owner_user_id = 426;\n",
    "```\n",
    "![5.6.1](5.6.1.png)"
   ]
  },
  {
   "cell_type": "markdown",
   "metadata": {},
   "source": [
    "#### Query 5.6.2 Question-answer Pairs\n",
    "```python\n",
    "SELECT COUNT(*) \n",
    "FROM `bigquery-public-data.stackoverflow.posts_questions` AS q, `bigquery-public-data.stackoverflow.posts_answers` AS a\n",
    "WHERE a.parent_id = q.id AND q.owner_user_id = 426 AND a.owner_user_id = 2142539;\n",
    "```\n",
    "![5.6.2](5.6.2.png)"
   ]
  },
  {
   "cell_type": "markdown",
   "metadata": {},
   "source": [
    "#### Query 5.6.3 Question to answer ratio\n",
    "``` python\n",
    "\n",
    "SELECT total_questions,\n",
    "      total_pairs,\n",
    "      total_pairs * 1.0 / total_questions AS ratio\n",
    "FROM\n",
    "   -- subquery 1 for # of questions from U\n",
    "   (SELECT COUNT(*) AS total_questions      \n",
    "    FROM `bigquery-public-data.stackoverflow.posts_questions` AS q\n",
    "    WHERE q.owner_user_id = 426),\n",
    "   -- subquery 2 for # of questions from U answered by V\n",
    "   (SELECT COUNT(*) AS total_pairs          \n",
    "    FROM `bigquery-public-data.stackoverflow.posts_answers` AS a,\n",
    "         `bigquery-public-data.stackoverflow.posts_questions` AS q\n",
    "    WHERE a.parent_id = q.id\n",
    "      AND q.owner_user_id = 426\n",
    "      AND a.owner_user_id = 2142539)\n",
    ";\n",
    "```\n",
    "![5.6.3](5.6.3.png)"
   ]
  },
  {
   "cell_type": "markdown",
   "metadata": {},
   "source": [
    "#### Query 5.6.4 Top Audience\n",
    "```python\n",
    "-- subquery for # of questions from U\n",
    "WITH questions_count AS (\n",
    "  SELECT COUNT(*) AS val\n",
    "  FROM `bigquery-public-data.stackoverflow.posts_questions` AS q\n",
    "  WHERE q.owner_user_id = 426)\n",
    "SELECT answer.owner_user_id as answered_by,\n",
    "       COUNT(*) AS pair_count,\n",
    "       COUNT(*) / questions_count.val as ratio\n",
    "FROM questions_count,\n",
    "     `bigquery-public-data.stackoverflow.posts_answers` AS answer\n",
    "       JOIN `bigquery-public-data.stackoverflow.posts_questions` AS question\n",
    "       ON question.id = answer.parent_id AND question.owner_user_id = 426\n",
    "GROUP BY answer.owner_user_id, questions_count.val\n",
    "ORDER BY ratio DESC\n",
    "LIMIT 5;\n",
    "```\n",
    "![5.6.4](5.6.4.png)"
   ]
  },
  {
   "cell_type": "markdown",
   "metadata": {},
   "source": [
    "\n",
    "#### Query 5.6.5 Top Offenders\n",
    "```python\n",
    "-- subquery for # of questions from U\n",
    "WITH questions_count AS (\n",
    "  SELECT owner_user_id, COUNT(*) AS val\n",
    "  FROM `bigquery-public-data.stackoverflow.posts_questions` AS q\n",
    "  GROUP BY q.owner_user_id)\n",
    "SELECT answer.owner_user_id as answered_by, question.owner_user_id as question_by,\n",
    "       COUNT(*) AS pair_count,\n",
    "       COUNT(*) / questions_count.val as ratio\n",
    "FROM questions_count,\n",
    "     `bigquery-public-data.stackoverflow.posts_answers` AS answer\n",
    "       JOIN `bigquery-public-data.stackoverflow.posts_questions` AS question\n",
    "       ON question.id = answer.parent_id AND question.owner_user_id = questions_count.owner_user_id\n",
    "GROUP BY answer.owner_user_id, question.owner_user_id, questions_count.val\n",
    "ORDER BY ratio DESC\n",
    "LIMIT 5;\n",
    "```\n",
    "![5.6.5](5.6.5.png)"
   ]
  },
  {
   "cell_type": "markdown",
   "metadata": {},
   "source": [
    "\n",
    "#### Task 5.6.6 Refinements (Written Question)     \n",
    "\n",
    "1. User will be falsely considered fraudulent in Query 5 if user U and V are in the same high level industrial field, which means their focus would be the same field and not many people have the knowledge to answer questions in this field, as a result the high answer ratio should not be an indicater of reputation farming.    \n",
    "2. User will be falsely considered innocent in Query 5 if they ask many many questions (let's say 10000 questions), and only 5% of them are answered (small percentage, but 500 answers still). Even though the ratio is low, the person is still doing reputation farming.   \n",
    "3. We should consider the voted answer into account. For example, we should consider what is the ratio of questions asked by U and answered by V is voted as a preferred answer. This would make sure the answers are high quality, which could potentially eliminate the reputation farming. If the ratio is relatively large, then we could consider the user as top audience; and if the ritio is samll, then we can consider the user's behavior as reputation farming."
   ]
  },
  {
   "cell_type": "code",
   "execution_count": null,
   "metadata": {},
   "outputs": [],
   "source": []
  }
 ],
 "metadata": {
  "kernelspec": {
   "display_name": "Python 3",
   "language": "python",
   "name": "python3"
  },
  "language_info": {
   "codemirror_mode": {
    "name": "ipython",
    "version": 3
   },
   "file_extension": ".py",
   "mimetype": "text/x-python",
   "name": "python",
   "nbconvert_exporter": "python",
   "pygments_lexer": "ipython3",
   "version": "3.7.3"
  }
 },
 "nbformat": 4,
 "nbformat_minor": 4
}

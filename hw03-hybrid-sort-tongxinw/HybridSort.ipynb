{
 "cells": [
  {
   "cell_type": "markdown",
   "metadata": {
    "colab_type": "text",
    "id": "rwA46LkeVrIl"
   },
   "source": [
    "# Hybrid Sort\n",
    "This project helps you familiarize with algorithm design through solving a famous design problem: \n",
    "general-purpose stable sort.\n",
    "\n",
    "## Before you start\n",
    "Before you start, enable extension manager and pair the notebook with a percent script through jupytext. \n",
    "\n",
    "1. [Enable extension manager](https://i.ibb.co/tP4vWk3/mng.png)\n",
    "2. [Enable jupytext pairing](https://i.ibb.co/5LrtYcq/jupytext-enable.png)"
   ]
  },
  {
   "cell_type": "code",
   "execution_count": 12,
   "metadata": {},
   "outputs": [
    {
     "name": "stdout",
     "output_type": "stream",
     "text": [
      "Note: you may need to restart the kernel to use updated packages.\n"
     ]
    }
   ],
   "source": [
    "# Execute this cell to enable testing. \n",
    "%pip install -q pytest pytest-cov"
   ]
  },
  {
   "cell_type": "markdown",
   "metadata": {
    "colab_type": "text",
    "id": "PvqcZwOU7PIJ"
   },
   "source": [
    "## Task 3.1 Insertion + Merge + Hybrid"
   ]
  },
  {
   "cell_type": "code",
   "execution_count": 13,
   "metadata": {
    "colab": {
     "base_uri": "https://localhost:8080/",
     "height": 34
    },
    "colab_type": "code",
    "id": "1TnfVsVAVktf",
    "outputId": "9f95439d-9459-4ff3-a795-821d686a1c17"
   },
   "outputs": [],
   "source": [
    "def insertion_sort_inplace(a, left, right):\n",
    "    \"\"\"\n",
    "    Use insertion sort to sort a[left:right] inplace. Your implemntation should have\n",
    "    O(right-left) time complexity and O(1) space complexity.\n",
    "    \"\"\" \n",
    "        \n",
    "    \n",
    "    if len(a) > 1:\n",
    "        for i in range(left + 1, right): \n",
    "            key = a[i] \n",
    "            j = i-1\n",
    "            while j >= left and key < a[j] : \n",
    "                    a[j + 1] = a[j] \n",
    "                    j -= 1\n",
    "            a[j + 1] = key  \n",
    "\n",
    "def merge_inplace(a, left, mid, right):\n",
    "    \"\"\"\n",
    "    With a[left:mid] and a[mid:right] sorted, merge them into one sorted array and\n",
    "    then assign it to a[left:right]. This function uses O(right-left) time and\n",
    "    O(right-left) space.\n",
    "    \"\"\"\n",
    "    \n",
    "    \n",
    "    if len(a) > 1:\n",
    "        temp_arr = []\n",
    "        i, j= left, mid \n",
    "        \n",
    "        while i < mid and j < right:\n",
    "            if a[i] <= a[j]:\n",
    "                temp_arr.append(a[i])\n",
    "                i += 1\n",
    "            else:\n",
    "                temp_arr.append(a[j]) \n",
    "                j += 1\n",
    "\n",
    "        if i < mid:\n",
    "            temp_arr += a[i:mid]\n",
    "        else:\n",
    "            temp_arr += a[j:right]\n",
    "        a[left:right] = temp_arr\n",
    "    \n",
    "def hybrid_sort_impl(a, left, right, thresh):\n",
    "    \"\"\"\n",
    "    Helper function for hybrid_sort.  \n",
    "    Performs a version of merge sort until right-left <= thresh, then switches to insertion sort.\n",
    "    \"\"\"\n",
    "    # TODO: implement me\n",
    "    \n",
    "    \n",
    "    if thresh <= 0:\n",
    "        raise IndexError(\"Thresh should be positive.\")\n",
    "        \n",
    "    if right - left <= thresh:\n",
    "        insertion_sort_inplace(a, left, right)\n",
    "        \n",
    "    else: \n",
    "        mid = (right + left) // 2\n",
    "        hybrid_sort_impl(a, left, mid, thresh)\n",
    "        hybrid_sort_impl(a, mid, right, thresh)\n",
    "        merge_inplace(a, left, mid, right)\n",
    "    \n",
    "\n",
    "def hybrid_sort(a, thresh=32):\n",
    "    \"\"\"\n",
    "    performs an in-place stable sort of `a` using a divide and conquer approach\n",
    "    similar to merge sort, except `thresh` determines when insertion sort will be applied.\n",
    "    \"\"\"\n",
    "    hybrid_sort_impl(a, 0, len(a), thresh)"
   ]
  },
  {
   "cell_type": "markdown",
   "metadata": {
    "colab_type": "text",
    "id": "qepeai2BWQm-"
   },
   "source": [
    "# Testing\n",
    "1. Test your algorithm with black box and white box unittests. \n",
    "2. Use the command from the next cell to run coverage test and hit 100% coverage.  \n",
    "3. Be sure to also check edge cases.\n",
    "\n",
    "Additionally, use the provided `TaskInfo` class to test the stability of your algorithm. \n"
   ]
  },
  {
   "cell_type": "code",
   "execution_count": 14,
   "metadata": {
    "colab": {
     "base_uri": "https://localhost:8080/",
     "height": 34
    },
    "colab_type": "code",
    "id": "xASmLhVVWYnN",
    "outputId": "3c5fd148-d651-4518-b835-842c1c3d916c"
   },
   "outputs": [
    {
     "name": "stdout",
     "output_type": "stream",
     "text": [
      "YEAH!!!! U passed insertion tests!!!\n",
      "YEAH!!!! U passed merge tests!!!\n",
      "YEAH!!!! U passed hybrid tests!!!\n"
     ]
    }
   ],
   "source": [
    "import pytest\n",
    "import numpy as np\n",
    "\n",
    "\n",
    "import functools\n",
    "@functools.total_ordering\n",
    "class TaskInfo:\n",
    "    \"\"\"\n",
    "    `TaskInfo` consists of a priority and a name. When comparing two tasks, only priority is\n",
    "    compared. The name is ignored. All comparison operators (<, >, <=, >=, ==, !=) have been\n",
    "    defined for this class so you don't need to modify the sorting algorithm.\n",
    "\n",
    "    ```\n",
    "    assert TaskInfo(2, 'b') < TaskInfo(3, 'a')\n",
    "    assert TaskInfo(4, 'b') == TaskInfo(4, 'b')\n",
    "    ```\n",
    "\n",
    "    When sorting a list of tasks, we want to put small priority tasks first. Among tasks with\n",
    "    same priority, the original order in the input list should be preserved. This is a\n",
    "    prioritized first-come-first-serve. Therefore, when sorting this array\n",
    "        [TaskInfo(1, 'b'), TaskInfo(2, 'c'), TaskInfo(1, 'a')]\n",
    "        sort ==>\n",
    "        [TaskInfo(1, 'b'), TaskInfo(1, 'a'), TaskInfo(2, 'c')] <== correct!\n",
    "        [TaskInfo(1, 'a'), TaskInfo(1, 'b'), TaskInfo(2, 'c')] <==  wrong!\n",
    "    The second output is wrong because 'b' should come before 'a'.\n",
    "    \"\"\"\n",
    "\n",
    "    def __init__(self, priority: int, name: str):\n",
    "        self.priority = priority\n",
    "        self.name = name\n",
    "\n",
    "    def __lt__(self, other: 'TaskInfo'):\n",
    "        return self.priority < other.priority\n",
    "\n",
    "    def __eq__(self, other: 'TaskInfo'):\n",
    "        return self.priority == other.priority\n",
    "    \n",
    "\n",
    "def test_stability_minimal():\n",
    "    li = [TaskInfo(1, 'b'), TaskInfo(2, 'c'), TaskInfo(1, 'a')]\n",
    "    hybrid_sort(li)\n",
    "    assert li == [TaskInfo(1, 'b'), TaskInfo(1, 'a'), TaskInfo(2, 'c')]\n",
    "\n",
    "def test_insertion():\n",
    "    a0 = []\n",
    "    insertion_sort_inplace(a0,0,1)\n",
    "    assert(a0 == [])\n",
    "    \n",
    "    a2 = [5]\n",
    "    insertion_sort_inplace(a2,0,1)\n",
    "    assert(a2 == [5])\n",
    "    \n",
    "    a3 = [3,1,7,5,8,6]\n",
    "    insertion_sort_inplace(a3, 0, 6)\n",
    "    assert(a3 == [1,3,5,6,7,8])\n",
    "    \n",
    "    a4 = [3,1,7,5,8,6]\n",
    "    insertion_sort_inplace(a4, 1, 4)\n",
    "    assert(a4 == [3,1,5,7,8,6])\n",
    "    \n",
    "    a5 = [1,1,1]\n",
    "    insertion_sort_inplace(a5, 0, 3)\n",
    "    assert(a5 == [1,1,1])\n",
    "    \n",
    "    print(\"YEAH!!!! U passed insertion tests!!!\")\n",
    "    \n",
    "    \n",
    "def test_merge():\n",
    "    \n",
    "    # test merge_inplace\n",
    "    m1 = [5,6,7,8,1,2,3]\n",
    "    merge_inplace(m1,0,4,7)\n",
    "    assert(m1 == [1, 2, 3, 5, 6, 7, 8])\n",
    "    \n",
    "    m2 = [1,7,8,2,3,4,6]\n",
    "    merge_inplace(m2,0,3,7)\n",
    "    assert(m2 == [1, 2, 3, 4, 6, 7, 8])\n",
    "    \n",
    "    m3 = [1,3,4,5,6,2]\n",
    "    merge_inplace(m3,0,5,6)\n",
    "    assert(m3 == [1, 2, 3, 4, 5, 6])\n",
    "    \n",
    "        \n",
    "    m5 = []\n",
    "    merge_inplace(m5,0,5,6)\n",
    "    assert(m5 == [])\n",
    "    \n",
    "    m6 = [1]\n",
    "    merge_inplace(m6,0,5,6)\n",
    "    assert(m6 == [1])\n",
    "    \n",
    "    m7 = [1,1,1]\n",
    "    merge_inplace(m7,0,1,3)\n",
    "    assert(m7 == [1,1,1])\n",
    "    \n",
    "    print(\"YEAH!!!! U passed merge tests!!!\")\n",
    "    \n",
    "def test_hybrid():\n",
    "    # test hybrid_sort\n",
    "    \n",
    "    m1 = []\n",
    "    hybrid_sort(m1, 2)\n",
    "    assert(m1 == [])\n",
    "    \n",
    "    m2 = [1]\n",
    "    hybrid_sort(m2, 2)\n",
    "    assert(m2 == [1])\n",
    "    \n",
    "    m3 = [1,1,1]\n",
    "    hybrid_sort(m3, 2)\n",
    "    assert(m3 == [1,1,1])\n",
    "    \n",
    "    m4 = [1,7,8,2]\n",
    "    hybrid_sort(m4, 2)\n",
    "    assert(m4 == [1, 2, 7, 8])\n",
    "    \n",
    "    m5 = [1,3,2,4,5,6,7]\n",
    "    hybrid_sort(m5, 6)\n",
    "    assert(m5 == [1,2,3,4,5,6,7])\n",
    "    \n",
    "    m6 = [1,3,2,4,5,7,6]\n",
    "    hybrid_sort(m6, 2)\n",
    "    assert(m6 == [1,2,3,4,5,6,7])\n",
    "    \n",
    "    m7 = [1,3,2,4,5,7,6]\n",
    "    with pytest.raises(IndexError):\n",
    "        hybrid_sort(m7, -2)\n",
    "    \n",
    "    print(\"YEAH!!!! U passed hybrid tests!!!\")\n",
    "    \n",
    "    \n",
    "test_insertion()\n",
    "test_merge()\n",
    "test_hybrid()"
   ]
  },
  {
   "cell_type": "code",
   "execution_count": 15,
   "metadata": {
    "colab": {
     "base_uri": "https://localhost:8080/",
     "height": 272
    },
    "colab_type": "code",
    "id": "FfqY7tbqraDd",
    "outputId": "3b799f7f-e402-4f9f-8981-e43d4ba969e8"
   },
   "outputs": [
    {
     "name": "stdout",
     "output_type": "stream",
     "text": [
      "/opt/conda/lib/python3.7/site-packages/dash/testing/plugin.py:17: UserWarning:\n",
      "\n",
      "run `pip install dash[testing]` if you need dash.testing\n",
      "\n",
      "\u001b[1m============================= test session starts ==============================\u001b[0m\n",
      "platform linux -- Python 3.7.3, pytest-5.2.1, py-1.8.0, pluggy-0.13.0\n",
      "rootdir: /home/jovyan/DATA1050/hw03-hybrid-sort-tongxinw\n",
      "plugins: cov-2.8.1, dash-1.3.0\n",
      "collected 4 items                                                              \u001b[0m\n",
      "\n",
      "HybridSort.py \u001b[32m.\u001b[0m\u001b[32m.\u001b[0m\u001b[32m.\u001b[0m\u001b[32m.\u001b[0m\u001b[36m                                                       [100%]\u001b[0m\n",
      "\n",
      "----------- coverage: platform linux, python 3.7.3-final-0 -----------\n",
      "Name            Stmts   Miss  Cover\n",
      "-----------------------------------\n",
      "HybridSort.py     109      0   100%\n",
      "Coverage annotated source written next to source\n",
      "\n",
      "\n",
      "\u001b[32m\u001b[1m============================== 4 passed in 0.34s ===============================\u001b[0m\n"
     ]
    }
   ],
   "source": [
    "# execute this cell to start the test. \n",
    "# Note that pytest only works on `.py` files. So jupytext pairing is necessary.\n",
    "!pytest --cov-report term --cov-report=annotate HybridSort.py --cov ."
   ]
  },
  {
   "cell_type": "code",
   "execution_count": 16,
   "metadata": {},
   "outputs": [],
   "source": [
    "## Lines begining with '!' is not covered by your tests\n",
    "!grep --color=always -C 4 -E \"^!.*$\" \"HybridSort.py,cover\""
   ]
  },
  {
   "cell_type": "markdown",
   "metadata": {
    "colab_type": "text",
    "id": "alGxB1TNWUc4"
   },
   "source": [
    "## Task 3.2 Finding the Best Threshold"
   ]
  },
  {
   "cell_type": "code",
   "execution_count": 11,
   "metadata": {
    "colab": {
     "base_uri": "https://localhost:8080/",
     "height": 422
    },
    "colab_type": "code",
    "id": "jtmyKl2SVqV3",
    "lines_to_next_cell": 2,
    "outputId": "9588ad8b-5456-490a-d3c8-6f8679963aa9"
   },
   "outputs": [
    {
     "name": "stdout",
     "output_type": "stream",
     "text": [
      "[0.035078776860000216, 0.033112776659999954, 0.03005931234000016, 0.02989435664000027, 0.029188980019999918, 0.028287625660000017, 0.02948763592000006, 0.034843550879999935, 0.04884599197999989]\n",
      "The threshold which minimizes the average run time is 16\n"
     ]
    },
    {
     "data": {
      "image/png": "[encoded data removed]",
      "text/plain": [
       "<Figure size 432x288 with 1 Axes>"
      ]
     },
     "metadata": {
      "needs_background": "light"
     },
     "output_type": "display_data"
    }
   ],
   "source": [
    "%matplotlib inline\n",
    "import time\n",
    "import numpy as np\n",
    "from matplotlib import pyplot as plt\n",
    "\n",
    "\n",
    "def get_random_list(): # pragma: no cover\n",
    "    \"\"\"\n",
    "    return a random list of 10000 `int`s.\n",
    "    \"\"\"\n",
    "    return np.random.randint(np.iinfo(np.int).min, np.iinfo(np.int).max, 10_000).tolist()\n",
    "\n",
    "def find_threshold(): # pragma: no cover\n",
    "    \"\"\"\n",
    "    Find the best threshold to use for `hybrid_sort`.\n",
    "    \"\"\"\n",
    "    n_samples = 50\n",
    "    np.random.seed(0)\n",
    "    # you need to sort each of these 20 lists\n",
    "    unsorted = [get_random_list() for _ in range(n_samples)]\n",
    "    # thresholds to experiment\n",
    "    thresholds = [2, 4, 6, 8, 12, 16, 32, 64, 128]\n",
    "\n",
    "    # TODO: Now let's choose the best threshold through a simple performance test. Instead of\n",
    "    # just trying each threshold on one single array, we will take the average on a few runs to\n",
    "    # minimize randomness. There are 50 unsorted lists in `unsorted`. Calculate the average\n",
    "    # execution time to sort each of them.\n",
    "    #\n",
    "    # Complete the function to output the best threshold you have found and produce a plot of\n",
    "    # execution time against choice of threshold. Report what you find and explain.\n",
    "    #\n",
    "    # TIP: !IMPORTANT!\n",
    "    # `hybrid_sort` sorts a list in-place. However, you need to keep the unsorted lists intact \n",
    "    # for the next round.\n",
    "    avg_time = []\n",
    "    for th in thresholds:\n",
    "        th_time = []\n",
    "        for l in unsorted:\n",
    "            a = l[:]\n",
    "            t1 = time.process_time()\n",
    "            hybrid_sort(a, th)\n",
    "            t2 = time.process_time()\n",
    "            th_time.append(t2-t1)\n",
    "        avg_time.append(np.mean(th_time))\n",
    "        \n",
    "    print(avg_time)\n",
    "    print(\"The threshold which minimizes the average run time is\",thresholds[np.argmin(avg_time)])\n",
    "    \n",
    "    plt.plot(thresholds,avg_time)\n",
    "    plt.xlabel('threshold')\n",
    "    plt.ylabel('average time usage')\n",
    "    \n",
    "    plt.savefig(\"dim.png\", dpi = 300)\n",
    "    \n",
    "    plt.show()\n",
    "    \n",
    "if __name__ == '__main__': # pragma: no cover\n",
    "    find_threshold()"
   ]
  }
 ],
 "metadata": {
  "colab": {
   "collapsed_sections": [],
   "name": "HybridSort.ipynb",
   "provenance": [],
   "toc_visible": true,
   "version": "0.3.2"
  },
  "jupytext": {
   "formats": "ipynb,py:percent"
  },
  "kernelspec": {
   "display_name": "Python 3",
   "language": "python",
   "name": "python3"
  },
  "language_info": {
   "codemirror_mode": {
    "name": "ipython",
    "version": 3
   },
   "file_extension": ".py",
   "mimetype": "text/x-python",
   "name": "python",
   "nbconvert_exporter": "python",
   "pygments_lexer": "ipython3",
   "version": "3.7.3"
  }
 },
 "nbformat": 4,
 "nbformat_minor": 4
}

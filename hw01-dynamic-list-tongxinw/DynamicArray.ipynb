{
 "cells": [
  {
   "cell_type": "markdown",
   "metadata": {
    "colab_type": "text",
    "id": "Z23HcXnk17kG"
   },
   "source": [
    "# Dynamic Array\n",
    "## Welcome to your first project in DATA1050!\n",
    "\n",
    "## Before you start\n",
    "Before you start, enable extension manager and pair the notebook with a percent script through jupytext. \n",
    "\n",
    "1. [Enable extension manager](https://i.ibb.co/tP4vWk3/mng.png)\n",
    "2. [Enable jupytext pairing](https://i.ibb.co/5LrtYcq/jupytext-enable.png)\n",
    "\n",
    "Jupytext converts python notebooks into python programs. Here we create `DynamicArray.py` in order to expose a pure script file for the testing framework.  You do not need to change `DynamicArray.py` file.\n"
   ]
  },
  {
   "cell_type": "code",
   "execution_count": 152,
   "metadata": {},
   "outputs": [
    {
     "name": "stdout",
     "output_type": "stream",
     "text": [
      "Note: you may need to restart the kernel to use updated packages.\n",
      "Note: you may need to restart the kernel to use updated packages.\n"
     ]
    }
   ],
   "source": [
    "# Execute this cell to enable testing and automatic style check. \n",
    "%pip install -q pytest\n",
    "%pip install -q pytest-cov"
   ]
  },
  {
   "cell_type": "markdown",
   "metadata": {},
   "source": [
    "# Task 1.1: Warm-up"
   ]
  },
  {
   "cell_type": "markdown",
   "metadata": {
    "colab": {
     "base_uri": "https://localhost:8080/",
     "height": 51
    },
    "colab_type": "code",
    "id": "aDQtD4iAUU5M",
    "outputId": "8a9d865b-a45f-4c64-efdf-1e2fe1287b84"
   },
   "source": [
    "Here is a Dynamic Array Growth example to help your understanding.   \n",
    "Given a dynamic array with length 4, and capacity 5.   \n",
    "`[1,2,3,4, None]`\n",
    "\n",
    "Appending an additional is posible in O(1) time because the current array is not yet full.  \n",
    "`[1,2,3,4,5]`  \n",
    "\n",
    "When the array is full appending an element will cause the array to grow a factor K times it's current capacity.  \n",
    "`[1,2,3,4,5,6, None, None, None, None]`    \n",
    "The new array capacity is k times the old array capacity.  \n",
    "\n",
    "In order to grow the array, a new array must be allocated, and the contents of the old array must be copied over.   \n",
    "Below is some python code to simulate this operation.    \n"
   ]
  },
  {
   "cell_type": "code",
   "execution_count": 153,
   "metadata": {},
   "outputs": [
    {
     "name": "stdout",
     "output_type": "stream",
     "text": [
      "old = [1, 2, 3, 4, 5]\n",
      "new = [1, 2, 3, 4, 5, 6, None, None, None, None]\n"
     ]
    }
   ],
   "source": [
    "K = 2\n",
    "\n",
    "old = [1, 2, 3, 4, 5]\n",
    "old_capacity = 5\n",
    "\n",
    "print(f'old = {old}')\n",
    "\n",
    "new_element = 6\n",
    "new = [None] * old_capacity * K\n",
    "for i in range(old_capacity):\n",
    "    new[i] = old[i]\n",
    "new[old_capacity] = new_element\n",
    "new_capacity = K * old_capacity\n",
    "\n",
    "print(f'new = {new}')"
   ]
  },
  {
   "cell_type": "markdown",
   "metadata": {
    "colab_type": "text",
    "id": "y8b-Hdh0ywZP"
   },
   "source": [
    "## Support Code\n",
    "You do __not__ need to modify anything in this section, but you should run the section. It also might be helpful to read through the comments and code to understand what this class does. Use `FixedSizeArray` to implement `DynamicArray`. \n"
   ]
  },
  {
   "cell_type": "code",
   "execution_count": 154,
   "metadata": {
    "colab": {
     "base_uri": "https://localhost:8080/",
     "height": 34
    },
    "colab_type": "code",
    "id": "fY0zZBXSuQSZ",
    "outputId": "560fdb93-8cbf-4a03-87d2-a3b7e24bead6"
   },
   "outputs": [],
   "source": [
    "class FixedSizeArray:\n",
    "    \"\"\"\n",
    "    Fixed-size array class. \n",
    "    \n",
    "    Use this as the data storage container when you implement DynamicArray. \n",
    "    DO NOT MODIFY.\n",
    "    \"\"\"\n",
    "    # _access_count is a class variable that tracks how many times\n",
    "    # `get`/`set` been called\n",
    "    _access_count = 0\n",
    "\n",
    "    def __init__(self, n):\n",
    "        \"\"\"\n",
    "        Initializes `FixedSizeArray` of size `n` with all elements set to `None`.\n",
    "        \"\"\"\n",
    "        if n <= 0:\n",
    "            raise ValueError(\n",
    "                \"Tried to initialize `FixedSizeArray` with non-positive length\")\n",
    "        self._length = n\n",
    "        self._internal_storage = [None] * n\n",
    "\n",
    "    def __len__(self):\n",
    "        return self._length\n",
    "\n",
    "    def set(self, p, x):\n",
    "        \"\"\"\n",
    "        Sets the element at position `p` to `x`. `p` should be in range [0,len(self)).\n",
    "        \"\"\"\n",
    "        if p < 0 or p >= self._length:\n",
    "            raise IndexError(\n",
    "                \"array index out of range, length is {} but tried to access \"\n",
    "                \"index {}\".format(self._length, p))\n",
    "        FixedSizeArray._access_count += 1\n",
    "        self._internal_storage[p] = x\n",
    "\n",
    "    def get(self, p):\n",
    "        \"\"\"\n",
    "        Returns the element at position `p`. `p` should be in range [0,len(self)).\n",
    "        \"\"\"\n",
    "        if p < 0 or p >= self._length:\n",
    "            raise IndexError(\n",
    "                f\"array index out of range, length is {self._length} but tried to \"\n",
    "                \"access index {p}\")\n",
    "        FixedSizeArray._access_count += 1\n",
    "        return self._internal_storage[p]\n",
    "\n",
    "    def __str__(self):\n",
    "        \"\"\"\n",
    "        Returns a printable string of the array content\n",
    "        \"\"\"\n",
    "        return 'FixedSizeArray: ' + str(self._internal_storage)\n",
    "\n",
    "    @classmethod\n",
    "    def get_access_count(cls):\n",
    "        \"\"\"\n",
    "        Returns the total number of times set() and get() have been called.\n",
    "        \"\"\"\n",
    "        return cls._access_count"
   ]
  },
  {
   "cell_type": "markdown",
   "metadata": {},
   "source": [
    "**Examples**"
   ]
  },
  {
   "cell_type": "code",
   "execution_count": 155,
   "metadata": {},
   "outputs": [
    {
     "name": "stdout",
     "output_type": "stream",
     "text": [
      "Length: 4\n",
      "The first element is: 3\n",
      "FixedSizeArray: [3, None, 4, None]\n",
      "3\n"
     ]
    }
   ],
   "source": [
    "arr = FixedSizeArray(4)\n",
    "print('Length:', len(arr))\n",
    "arr.set(0, 3)\n",
    "arr.set(2, 4)\n",
    "print('The first element is:', arr.get(0))\n",
    "print(arr)\n",
    "print(arr.get_access_count())\n",
    "#arr.set(5, 7) # Uncomment this line to see an error"
   ]
  },
  {
   "cell_type": "markdown",
   "metadata": {
    "colab_type": "text",
    "id": "iHVNDyakyJng"
   },
   "source": [
    "# Task1.2: Let's start coding!\n",
    "Use the stencil code below to implement a `DynamicArray`.  Specifically, you will need to implement the methods `append`, `insert`, `pop` and `reverse`. \n",
    "Your implementation should use a `FixedSizeArray` to store data internally, your methods will need to update and resize it as needed.\n",
    "\n",
    "__Tips:__\n",
    "- Remember to adjust the array length and capacity as needed. \n",
    "- Create helper methods when necessary (there is at least one obvious one if you utilize the [DRY Principle](https://en.wikipedia.org/wiki/Don%27t_repeat_yourself))!"
   ]
  },
  {
   "cell_type": "code",
   "execution_count": 7,
   "metadata": {
    "colab": {
     "base_uri": "https://localhost:8080/",
     "height": 34
    },
    "colab_type": "code",
    "id": "8OvtptiGuUOz",
    "outputId": "9f19b163-709e-44ee-8da6-e8bb5ad46bdc"
   },
   "outputs": [],
   "source": [
    "class DynamicArray:\n",
    "    \"\"\"\n",
    "    This DynamicArray class provides set, get, append, insert, pop methods.  Data is stored internally \n",
    "    using a `FixedSizeArray` which is resized as needed. \n",
    "\n",
    "    TODO: Implement the requested methods and design tests for each.  Use the `FixedSizeArray` class \n",
    "    to allocate the necessary memory.\n",
    "    \n",
    "    HINT: Do not inherit 'FixedSizeArray'. \n",
    "    \"\"\"\n",
    "\n",
    "    MIN_CAPACITY = 4\n",
    "\n",
    "    def __init__(self):\n",
    "        \"\"\"\n",
    "        Returns an empty DynamicArray.\n",
    "        \"\"\"\n",
    "        self._fixed_array = FixedSizeArray(self.MIN_CAPACITY)\n",
    "        self._length = 0\n",
    "        \n",
    "    def __len__(self):\n",
    "        return self._length\n",
    "    \n",
    "    def capacity(self):\n",
    "        return len(self._fixed_array)\n",
    "    \n",
    "    def get(self, p):\n",
    "        if p < 0 or p >= self._length:\n",
    "            raise IndexError(\n",
    "                'array index out of range, size is {} but tried to access '\n",
    "                'index {}'.format(self._length, p))\n",
    "        return self._fixed_array.get(p)\n",
    "\n",
    "    def set(self, p, x):\n",
    "        if p < 0 or p >= self._length:\n",
    "            raise IndexError(\n",
    "                'array index out of range, size is {} but tried to access '\n",
    "                'index {}'.format(self._length, p))\n",
    "        self._fixed_array.set(p, x)\n",
    "        \n",
    "    def adjust(self,grow):\n",
    "        curr_cap = len(self._fixed_array)\n",
    "        \n",
    "        if grow:\n",
    "            new = FixedSizeArray(curr_cap*2)\n",
    "        else:\n",
    "            new = FixedSizeArray(curr_cap//2)\n",
    "            curr_cap = curr_cap//2\n",
    "        \n",
    "        for i in range(curr_cap):\n",
    "            new.set(i,self._fixed_array.get(i))\n",
    "        self._fixed_array = new\n",
    "\n",
    "    def append(self, x):\n",
    "        \"\"\" Add an item to the end of the current array. \"\"\"\n",
    "        # TODO: Implement me! Remember to update length and capacity as needed.\n",
    "        \n",
    "        if len(self) == len(self._fixed_array):\n",
    "            grow = True\n",
    "            self.adjust(grow)\n",
    "        self._length += 1\n",
    "        self.set(len(self)-1, x)\n",
    "        # DONE\n",
    "    \n",
    "    def insert(self, i, x):\n",
    "        \"\"\"\n",
    "        Insert an item `x` before position `i` of self.   \n",
    "        Requires 0 <= i <= len(self), otherwise, `IndexError` is raised.\n",
    "        \"\"\"\n",
    "        # TODO: Implement me! Remember to update length and capacity as needed.\n",
    "        \n",
    "        if i < 0 or i > len(self):\n",
    "            raise IndexError(\n",
    "                'array index out of range, size is {} but tried to access '\n",
    "                'index {}'.format(self._length, i))\n",
    "        else:\n",
    "            if len(self) == self.capacity():\n",
    "                grow = True\n",
    "                self.adjust(grow)\n",
    "            \n",
    "            self._length += 1\n",
    "            for j in range(len(self)-1,i,-1):\n",
    "                self.set(j,self.get(j-1))\n",
    "            self.set(i, x)\n",
    "\n",
    "    def pop(self, i=None):\n",
    "        \"\"\"\n",
    "        Remove the item at position `i` of self, and return\n",
    "        it. a.pop() removes and returns the last item in self. \n",
    "        Requires 0 <= i < len(self), otherwise, `IndexError` is raised.\n",
    "        \"\"\"\n",
    "        # TODO: Implement me! Remember to update length and capacity as needed.\n",
    "        if i == None:\n",
    "            i = len(self)-1\n",
    "            \n",
    "        if i < 0 or i >= len(self):\n",
    "            raise IndexError(\n",
    "                'array index out of range, size is {} but tried to access '\n",
    "                'index {}'.format(self._length, i))   \n",
    "        else:\n",
    "            elem = self.get(i)\n",
    "            for ind in range(i,len(self)-1):\n",
    "                self.set(ind,self.get(ind+1))\n",
    "            self.set(len(self)-1,None)\n",
    "            self._length -= 1\n",
    "        if self._length <= self.capacity()//4:\n",
    "            grow = False\n",
    "            self.adjust(grow)\n",
    "        return elem\n",
    "        \n",
    "    def reverse(self):\n",
    "        \"\"\"\n",
    "        Reverse the elements of the self, in place.\n",
    "        \"\"\"\n",
    "        # TODO: Implement me!\n",
    "        for i in range(len(self)//2):\n",
    "            temp = self._fixed_array.get(i)\n",
    "            self._fixed_array.set(i, self._fixed_array.get(len(self)-1-i))\n",
    "            self._fixed_array.set(len(self)-1-i,temp)\n",
    "\n",
    "    def __str__(self):\n",
    "        return f'DynamicArray: capacity={len(self._fixed_array)}, length={self._length}; Internal {self._fixed_array}; '\n",
    "\n",
    "\n",
    "    "
   ]
  },
  {
   "cell_type": "markdown",
   "metadata": {},
   "source": [
    "**Examples**"
   ]
  },
  {
   "cell_type": "code",
   "execution_count": 8,
   "metadata": {
    "lines_to_next_cell": 2
   },
   "outputs": [
    {
     "name": "stdout",
     "output_type": "stream",
     "text": [
      "Length: 0\n",
      "DynamicArray: capacity=4, length=1; Internal FixedSizeArray: [3, None, None, None]; \n",
      "The first element is: 3\n",
      "DynamicArray: capacity=4, length=2; Internal FixedSizeArray: [3, 4, None, None]; \n",
      "DynamicArray: capacity=4, length=3; Internal FixedSizeArray: [3, 4, 5, None]; \n",
      "DynamicArray: capacity=4, length=4; Internal FixedSizeArray: ['test', 3, 4, 5]; \n",
      "DynamicArray: capacity=4, length=4; Internal FixedSizeArray: [5, 4, 3, 'test']; \n",
      "5\n",
      "DynamicArray: capacity=4, length=3; Internal FixedSizeArray: [4, 3, 'test', None]; \n"
     ]
    }
   ],
   "source": [
    "arr = DynamicArray()\n",
    "print('Length:', len(arr))\n",
    "arr.append(3)\n",
    "print(arr)\n",
    "arr.append(4)\n",
    "print('The first element is:', arr.get(0))\n",
    "print(arr)\n",
    "\n",
    "arr.insert(2,5)\n",
    "print(arr)\n",
    "\n",
    "arr.insert(0,'test')\n",
    "print(arr)\n",
    "\n",
    "arr.reverse()\n",
    "print(arr)\n",
    "\n",
    "print(arr.pop(0))\n",
    "print(arr)\n",
    "\n",
    "# #arr.set(5, 7) # Uncomment this line to see an error\n"
   ]
  },
  {
   "cell_type": "markdown",
   "metadata": {
    "colab_type": "text",
    "id": "KAV_8TWlyoW6"
   },
   "source": [
    "# Task1.3 Let's write some tests\n",
    "Testing is a critical part of programming! Refer to the handout for more information about things you should keep in mind when writing tests."
   ]
  },
  {
   "cell_type": "code",
   "execution_count": 9,
   "metadata": {
    "colab": {
     "base_uri": "https://localhost:8080/",
     "height": 34
    },
    "colab_type": "code",
    "id": "GUnFT1BPuUYL",
    "outputId": "4c158239-3090-4228-db4e-e0ebca9c8b05"
   },
   "outputs": [],
   "source": [
    "import pytest\n",
    "\n",
    "\n",
    "def assert_dynamic_array_equal(a, b):\n",
    "    assert len(a) == len(b)\n",
    "    for i in range(len(b)):\n",
    "        assert a.get(i) == b[i]\n",
    "\n",
    "\n",
    "def test_init():\n",
    "    dl = DynamicArray()\n",
    "    assert_dynamic_array_equal(dl, [])\n",
    "    # Example of Exception testing\n",
    "    with pytest.raises(IndexError):\n",
    "        dl.pop()\n",
    "    with pytest.raises(IndexError):\n",
    "        dl.get(0)\n",
    "\n",
    "\n",
    "def test_append():\n",
    "    dl = DynamicArray()\n",
    "    dl.append(1)\n",
    "    dl.append(2)\n",
    "    assert_dynamic_array_equal(dl, [1, 2])\n",
    "    dl.append('test')\n",
    "    assert_dynamic_array_equal(dl, [1, 2, 'test'])\n",
    "    \n",
    "\n",
    "# TODO: add test cases for your methods\n",
    "\n",
    "def test_insert():\n",
    "    dl = DynamicArray()\n",
    "    dl.append(1)\n",
    "    dl.append(2)\n",
    "    assert_dynamic_array_equal(dl, [1, 2])\n",
    "    dl.insert(0,'test')\n",
    "    assert_dynamic_array_equal(dl, ['test',1,2])\n",
    "    \n",
    "\n",
    "def test_pop():\n",
    "    dl = DynamicArray()\n",
    "    dl.append(1)\n",
    "    dl.append(4)\n",
    "    dl.append('test')\n",
    "    dl.append(5)\n",
    "    assert_dynamic_array_equal(dl, [1, 4,'test',5])\n",
    "    dl.append(7)\n",
    "    assert_dynamic_array_equal(dl, [1, 4,'test', 5, 7])\n",
    "    dl.pop(1)\n",
    "    dl.pop(1)\n",
    "    dl.pop(1)\n",
    "    dl.pop(1)\n",
    "    assert_dynamic_array_equal(dl, [1])\n",
    "    \n",
    "def test_reverse(): \n",
    "    dl = DynamicArray()\n",
    "    dl.append(1)\n",
    "    dl.append(4)\n",
    "    dl.append('test')\n",
    "    dl.append(5)\n",
    "    assert_dynamic_array_equal(dl, [1, 4,'test',5])\n",
    "    dl.reverse()\n",
    "    print(dl)\n",
    "    assert_dynamic_array_equal(dl, [5,'test', 4, 1])\n",
    "\n"
   ]
  },
  {
   "cell_type": "code",
   "execution_count": 10,
   "metadata": {
    "colab": {},
    "colab_type": "code",
    "id": "m2-bpX41PrtG"
   },
   "outputs": [
    {
     "name": "stdout",
     "output_type": "stream",
     "text": [
      "/opt/conda/lib/python3.7/site-packages/dash/testing/plugin.py:15: UserWarning:\n",
      "\n",
      "run `pip install dash[testing]` if you need dash.testing\n",
      "\n",
      "\u001b[1m============================= test session starts ==============================\u001b[0m\n",
      "platform linux -- Python 3.7.3, pytest-5.1.2, py-1.8.0, pluggy-0.13.0\n",
      "rootdir: /home/jovyan/hw01-dynamic-list-tongxinw\n",
      "plugins: cov-2.7.1, dash-1.2.0\n",
      "collected 5 items                                                              \u001b[0m\n",
      "\n",
      "DynamicArray.py \u001b[32m.\u001b[0m\u001b[32m.\u001b[0m\u001b[32m.\u001b[0m\u001b[32m.\u001b[0m\u001b[32m.\u001b[0m\u001b[36m                                                    [100%]\u001b[0m\n",
      "\n",
      "----------- coverage: platform linux, python 3.7.3-final-0 -----------\n",
      "Name              Stmts   Miss  Cover\n",
      "-------------------------------------\n",
      "DynamicArray.py     169      7    96%\n",
      "Coverage annotated source written next to source\n",
      "\n",
      "\n",
      "\u001b[32m\u001b[1m============================== 5 passed in 0.07s ===============================\u001b[0m\n"
     ]
    }
   ],
   "source": [
    "# Execute this cell to start the test. SAVE the notebook to flushes changes to storage.\n",
    "# Note that pytest only works on `DynamicArray.py` files. So jupytext pairing mentioned at the very beginning is necessary.\n",
    "!python3 -m pytest --cov-report term --cov-report=annotate DynamicArray.py --cov"
   ]
  },
  {
   "cell_type": "code",
   "execution_count": 11,
   "metadata": {},
   "outputs": [
    {
     "name": "stdout",
     "output_type": "stream",
     "text": [
      ">         \"\"\"\n",
      ">         Initializes `FixedSizeArray` of size `n` with all elements set to `None`.\n",
      ">         \"\"\"\n",
      ">         if n <= 0:\n",
      "\u001b[01;31m\u001b[K!             raise ValueError(\u001b[m\u001b[K\n",
      "\u001b[01;31m\u001b[K!                 \"Tried to initialize `FixedSizeArray` with non-positive length\")\u001b[m\u001b[K\n",
      ">         self._length = n\n",
      ">         self._internal_storage = [None] * n\n",
      "  \n",
      ">     def __len__(self):\n",
      "\u001b[36m\u001b[K--\u001b[m\u001b[K\n",
      ">         \"\"\"\n",
      ">         Sets the element at position `p` to `x`. `p` should be in range [0,len(self)).\n",
      ">         \"\"\"\n",
      ">         if p < 0 or p >= self._length:\n",
      "\u001b[01;31m\u001b[K!             raise IndexError(\u001b[m\u001b[K\n",
      "\u001b[01;31m\u001b[K!                 \"array index out of range, length is {} but tried to access \"\u001b[m\u001b[K\n",
      "\u001b[01;31m\u001b[K!                 \"index {}\".format(self._length, p))\u001b[m\u001b[K\n",
      ">         FixedSizeArray._access_count += 1\n",
      ">         self._internal_storage[p] = x\n",
      "  \n",
      ">     def get(self, p):\n",
      ">         \"\"\"\n",
      ">         Returns the element at position `p`. `p` should be in range [0,len(self)).\n",
      ">         \"\"\"\n",
      ">         if p < 0 or p >= self._length:\n",
      "\u001b[01;31m\u001b[K!             raise IndexError(\u001b[m\u001b[K\n",
      "\u001b[01;31m\u001b[K!                 f\"array index out of range, length is {self._length} but tried to \"\u001b[m\u001b[K\n",
      "\u001b[01;31m\u001b[K!                 \"access index {p}\")\u001b[m\u001b[K\n",
      ">         FixedSizeArray._access_count += 1\n",
      ">         return self._internal_storage[p]\n",
      "  \n",
      ">     def __str__(self):\n",
      "\u001b[36m\u001b[K--\u001b[m\u001b[K\n",
      ">         return self._fixed_array.get(p)\n",
      "  \n",
      ">     def set(self, p, x):\n",
      ">         if p < 0 or p >= self._length:\n",
      "\u001b[01;31m\u001b[K!             raise IndexError(\u001b[m\u001b[K\n",
      "\u001b[01;31m\u001b[K!                 'array index out of range, size is {} but tried to access '\u001b[m\u001b[K\n",
      "\u001b[01;31m\u001b[K!                 'index {}'.format(self._length, p))\u001b[m\u001b[K\n",
      ">         self._fixed_array.set(p, x)\n",
      "          \n",
      ">     def adjust(self,grow):\n",
      ">         curr_cap = len(self._fixed_array)\n",
      "\u001b[36m\u001b[K--\u001b[m\u001b[K\n",
      ">         \"\"\"\n",
      "          # TODO: Implement me! Remember to update length and capacity as needed.\n",
      "          \n",
      ">         if i < 0 or i > len(self):\n",
      "\u001b[01;31m\u001b[K!             raise IndexError(\u001b[m\u001b[K\n",
      "\u001b[01;31m\u001b[K!                 'array index out of range, size is {} but tried to access '\u001b[m\u001b[K\n",
      "\u001b[01;31m\u001b[K!                 'index {}'.format(self._length, i))\u001b[m\u001b[K\n",
      ">         else:\n",
      ">             if len(self) == self.capacity():\n",
      "\u001b[01;31m\u001b[K!                 grow = True\u001b[m\u001b[K\n",
      "\u001b[01;31m\u001b[K!                 self.adjust(grow)\u001b[m\u001b[K\n",
      "              \n",
      ">             self._length += 1\n",
      ">             for j in range(len(self)-1,i,-1):\n",
      ">                 self.set(j,self.get(j-1))\n"
     ]
    }
   ],
   "source": [
    "%%bash\n",
    "# Use this cell to show the lines not yet covered in your test\n",
    "# Lines begining with '!' is not covered by your tests\n",
    "grep --color=always -C 4 -E \"^!.*\\$\" \"DynamicArray.py,cover\""
   ]
  },
  {
   "cell_type": "code",
   "execution_count": null,
   "metadata": {},
   "outputs": [],
   "source": []
  }
 ],
 "metadata": {
  "jupytext": {
   "formats": "ipynb,py:percent"
  },
  "kernelspec": {
   "display_name": "Python 3",
   "language": "python",
   "name": "python3"
  },
  "language_info": {
   "codemirror_mode": {
    "name": "ipython",
    "version": 3
   },
   "file_extension": ".py",
   "mimetype": "text/x-python",
   "name": "python",
   "nbconvert_exporter": "python",
   "pygments_lexer": "ipython3",
   "version": "3.7.3"
  }
 },
 "nbformat": 4,
 "nbformat_minor": 4
}
